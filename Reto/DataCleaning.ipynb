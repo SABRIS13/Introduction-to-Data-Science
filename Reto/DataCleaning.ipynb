{
  "cells": [
    {
      "cell_type": "markdown",
      "metadata": {
        "id": "RRaW_DI12TeY"
      },
      "source": [
        "# Ejercicios de Pandas\n",
        "\n",
        "Es momento de poner a pruebas tus nuevas habilidades. Utiliza el archivo <tt>population_by_county.csv</tt> para completar las tareas en negritas en la parte de abajo.\n",
        "\n",
        "[Data](https://github.com/gupta24789/Machine-Learning-Datasets/blob/master/population_by_county.csv)\n",
        "\n",
        "<div class=\"alert alert-info\" style=\"margin: 10px\"><strong>NOTA:</strong>TODOS LOS EJERCICIOS PUDEN REALIZARSE CON UNA SOLA LINEA DE CODIGO DE PANDAS.</div>\n"
      ]
    },
    {
      "cell_type": "markdown",
      "metadata": {
        "id": "YgjOv01B2Tee"
      },
      "source": [
        "#### 1. Importa pandas y lee el archivo <tt>population_by_county.csv</tt> en una dataframe llamado <tt>pop</tt>."
      ]
    },
    {
      "cell_type": "code",
      "execution_count": 1,
      "metadata": {
        "id": "j6VNtTSZ2Tef"
      },
      "outputs": [],
      "source": [
        "import pandas as pd"
      ]
    },
    {
      "cell_type": "code",
      "execution_count": 2,
      "metadata": {
        "id": "laEAh8Gz2Teg"
      },
      "outputs": [
        {
          "data": {
            "text/html": [
              "<div>\n",
              "<style scoped>\n",
              "    .dataframe tbody tr th:only-of-type {\n",
              "        vertical-align: middle;\n",
              "    }\n",
              "\n",
              "    .dataframe tbody tr th {\n",
              "        vertical-align: top;\n",
              "    }\n",
              "\n",
              "    .dataframe thead th {\n",
              "        text-align: right;\n",
              "    }\n",
              "</style>\n",
              "<table border=\"1\" class=\"dataframe\">\n",
              "  <thead>\n",
              "    <tr style=\"text-align: right;\">\n",
              "      <th></th>\n",
              "      <th>County</th>\n",
              "      <th>State</th>\n",
              "      <th>2010Census</th>\n",
              "      <th>2017PopEstimate</th>\n",
              "    </tr>\n",
              "  </thead>\n",
              "  <tbody>\n",
              "    <tr>\n",
              "      <th>0</th>\n",
              "      <td>Abbeville County</td>\n",
              "      <td>South Carolina</td>\n",
              "      <td>25417</td>\n",
              "      <td>24722</td>\n",
              "    </tr>\n",
              "    <tr>\n",
              "      <th>1</th>\n",
              "      <td>Acadia Parish</td>\n",
              "      <td>Louisiana</td>\n",
              "      <td>61773</td>\n",
              "      <td>62590</td>\n",
              "    </tr>\n",
              "    <tr>\n",
              "      <th>2</th>\n",
              "      <td>Accomack County</td>\n",
              "      <td>Virginia</td>\n",
              "      <td>33164</td>\n",
              "      <td>32545</td>\n",
              "    </tr>\n",
              "    <tr>\n",
              "      <th>3</th>\n",
              "      <td>Ada County</td>\n",
              "      <td>Idaho</td>\n",
              "      <td>392365</td>\n",
              "      <td>456849</td>\n",
              "    </tr>\n",
              "    <tr>\n",
              "      <th>4</th>\n",
              "      <td>Adair County</td>\n",
              "      <td>Iowa</td>\n",
              "      <td>7682</td>\n",
              "      <td>7054</td>\n",
              "    </tr>\n",
              "    <tr>\n",
              "      <th>...</th>\n",
              "      <td>...</td>\n",
              "      <td>...</td>\n",
              "      <td>...</td>\n",
              "      <td>...</td>\n",
              "    </tr>\n",
              "    <tr>\n",
              "      <th>3137</th>\n",
              "      <td>Yuma County</td>\n",
              "      <td>Arizona</td>\n",
              "      <td>195751</td>\n",
              "      <td>207534</td>\n",
              "    </tr>\n",
              "    <tr>\n",
              "      <th>3138</th>\n",
              "      <td>Yuma County</td>\n",
              "      <td>Colorado</td>\n",
              "      <td>10043</td>\n",
              "      <td>10075</td>\n",
              "    </tr>\n",
              "    <tr>\n",
              "      <th>3139</th>\n",
              "      <td>Zapata County</td>\n",
              "      <td>Texas</td>\n",
              "      <td>14018</td>\n",
              "      <td>14322</td>\n",
              "    </tr>\n",
              "    <tr>\n",
              "      <th>3140</th>\n",
              "      <td>Zavala County</td>\n",
              "      <td>Texas</td>\n",
              "      <td>11677</td>\n",
              "      <td>11948</td>\n",
              "    </tr>\n",
              "    <tr>\n",
              "      <th>3141</th>\n",
              "      <td>Ziebach County</td>\n",
              "      <td>South Dakota</td>\n",
              "      <td>2801</td>\n",
              "      <td>2756</td>\n",
              "    </tr>\n",
              "  </tbody>\n",
              "</table>\n",
              "<p>3142 rows × 4 columns</p>\n",
              "</div>"
            ],
            "text/plain": [
              "                County           State  2010Census  2017PopEstimate\n",
              "0     Abbeville County  South Carolina       25417            24722\n",
              "1        Acadia Parish       Louisiana       61773            62590\n",
              "2      Accomack County        Virginia       33164            32545\n",
              "3           Ada County           Idaho      392365           456849\n",
              "4         Adair County            Iowa        7682             7054\n",
              "...                ...             ...         ...              ...\n",
              "3137       Yuma County         Arizona      195751           207534\n",
              "3138       Yuma County        Colorado       10043            10075\n",
              "3139     Zapata County           Texas       14018            14322\n",
              "3140     Zavala County           Texas       11677            11948\n",
              "3141    Ziebach County    South Dakota        2801             2756\n",
              "\n",
              "[3142 rows x 4 columns]"
            ]
          },
          "execution_count": 2,
          "metadata": {},
          "output_type": "execute_result"
        }
      ],
      "source": [
        "population = pd.read_csv(\"population_by_county.csv\")\n",
        "population"
      ]
    },
    {
      "cell_type": "markdown",
      "metadata": {
        "id": "EqLaYFjM2Teh"
      },
      "source": [
        "#### 2. Muestra el head del dataframe."
      ]
    },
    {
      "cell_type": "code",
      "execution_count": 4,
      "metadata": {
        "colab": {
          "base_uri": "https://localhost:8080/",
          "height": 206
        },
        "id": "MY0FfoHq2Teh",
        "outputId": "8e96c0b1-f24e-4b92-ea70-6bd78cf0ef7a"
      },
      "outputs": [
        {
          "data": {
            "text/html": [
              "<div>\n",
              "<style scoped>\n",
              "    .dataframe tbody tr th:only-of-type {\n",
              "        vertical-align: middle;\n",
              "    }\n",
              "\n",
              "    .dataframe tbody tr th {\n",
              "        vertical-align: top;\n",
              "    }\n",
              "\n",
              "    .dataframe thead th {\n",
              "        text-align: right;\n",
              "    }\n",
              "</style>\n",
              "<table border=\"1\" class=\"dataframe\">\n",
              "  <thead>\n",
              "    <tr style=\"text-align: right;\">\n",
              "      <th></th>\n",
              "      <th>County</th>\n",
              "      <th>State</th>\n",
              "      <th>2010Census</th>\n",
              "      <th>2017PopEstimate</th>\n",
              "    </tr>\n",
              "  </thead>\n",
              "  <tbody>\n",
              "    <tr>\n",
              "      <th>0</th>\n",
              "      <td>Abbeville County</td>\n",
              "      <td>South Carolina</td>\n",
              "      <td>25417</td>\n",
              "      <td>24722</td>\n",
              "    </tr>\n",
              "    <tr>\n",
              "      <th>1</th>\n",
              "      <td>Acadia Parish</td>\n",
              "      <td>Louisiana</td>\n",
              "      <td>61773</td>\n",
              "      <td>62590</td>\n",
              "    </tr>\n",
              "    <tr>\n",
              "      <th>2</th>\n",
              "      <td>Accomack County</td>\n",
              "      <td>Virginia</td>\n",
              "      <td>33164</td>\n",
              "      <td>32545</td>\n",
              "    </tr>\n",
              "    <tr>\n",
              "      <th>3</th>\n",
              "      <td>Ada County</td>\n",
              "      <td>Idaho</td>\n",
              "      <td>392365</td>\n",
              "      <td>456849</td>\n",
              "    </tr>\n",
              "    <tr>\n",
              "      <th>4</th>\n",
              "      <td>Adair County</td>\n",
              "      <td>Iowa</td>\n",
              "      <td>7682</td>\n",
              "      <td>7054</td>\n",
              "    </tr>\n",
              "  </tbody>\n",
              "</table>\n",
              "</div>"
            ],
            "text/plain": [
              "             County           State  2010Census  2017PopEstimate\n",
              "0  Abbeville County  South Carolina       25417            24722\n",
              "1     Acadia Parish       Louisiana       61773            62590\n",
              "2   Accomack County        Virginia       33164            32545\n",
              "3        Ada County           Idaho      392365           456849\n",
              "4      Adair County            Iowa        7682             7054"
            ]
          },
          "execution_count": 4,
          "metadata": {},
          "output_type": "execute_result"
        }
      ],
      "source": [
        "population.head()"
      ]
    },
    {
      "cell_type": "markdown",
      "metadata": {
        "id": "x0vNyKqu2Tek"
      },
      "source": [
        "#### 3. ¿Cuáles son los nombres de las columnas?"
      ]
    },
    {
      "cell_type": "code",
      "execution_count": 5,
      "metadata": {
        "colab": {
          "base_uri": "https://localhost:8080/"
        },
        "collapsed": true,
        "id": "Wuf9aUfB2Tel",
        "jupyter": {
          "outputs_hidden": true
        },
        "outputId": "eb0c6800-3415-400b-bd2e-420afef8d90e"
      },
      "outputs": [
        {
          "data": {
            "text/plain": [
              "Index(['County', 'State', '2010Census', '2017PopEstimate'], dtype='object')"
            ]
          },
          "execution_count": 5,
          "metadata": {},
          "output_type": "execute_result"
        }
      ],
      "source": [
        "population.columns"
      ]
    },
    {
      "cell_type": "markdown",
      "metadata": {
        "id": "PW03cNmq2Tem"
      },
      "source": [
        "<strong>4. ¿Cuántos estados están representados en este dataset?</strong> <em>Nota: los datos incluyen el distrito de Columbia</em>"
      ]
    },
    {
      "cell_type": "code",
      "execution_count": 24,
      "metadata": {
        "colab": {
          "base_uri": "https://localhost:8080/"
        },
        "collapsed": true,
        "id": "Z-Ppz3X02Ten",
        "jupyter": {
          "outputs_hidden": true
        },
        "outputId": "7beebbbd-86f4-4e8a-d09a-f57609590b39"
      },
      "outputs": [
        {
          "data": {
            "text/plain": [
              "50"
            ]
          },
          "execution_count": 24,
          "metadata": {},
          "output_type": "execute_result"
        }
      ],
      "source": [
        "population[\"State\"].nunique()-1"
      ]
    },
    {
      "cell_type": "code",
      "execution_count": 51,
      "metadata": {},
      "outputs": [
        {
          "data": {
            "text/plain": [
              "50"
            ]
          },
          "execution_count": 51,
          "metadata": {},
          "output_type": "execute_result"
        }
      ],
      "source": [
        "len(set(population[\"State\"]))-1\n"
      ]
    },
    {
      "cell_type": "code",
      "execution_count": 9,
      "metadata": {},
      "outputs": [
        {
          "data": {
            "text/plain": [
              "50"
            ]
          },
          "execution_count": 9,
          "metadata": {},
          "output_type": "execute_result"
        }
      ],
      "source": [
        "population[population[\"State\"]!=\"District of Columbia\"][\"State\"].nunique()"
      ]
    },
    {
      "cell_type": "markdown",
      "metadata": {
        "id": "0atRjNjh2Ten"
      },
      "source": [
        "#### 5. Obtén una listo o arreglo de todos los estados en el dataset"
      ]
    },
    {
      "cell_type": "code",
      "execution_count": 8,
      "metadata": {
        "colab": {
          "base_uri": "https://localhost:8080/"
        },
        "collapsed": true,
        "id": "Mb09GA8s2Teo",
        "jupyter": {
          "outputs_hidden": true
        },
        "outputId": "c327ff31-2e47-4def-f127-f604dd79b4ed"
      },
      "outputs": [
        {
          "data": {
            "text/plain": [
              "array(['South Carolina', 'Louisiana', 'Virginia', 'Idaho', 'Iowa',\n",
              "       'Kentucky', 'Missouri', 'Oklahoma', 'Colorado', 'Illinois',\n",
              "       'Indiana', 'Mississippi', 'Nebraska', 'North Dakota', 'Ohio',\n",
              "       'Pennsylvania', 'Washington', 'Wisconsin', 'Vermont', 'Minnesota',\n",
              "       'Florida', 'North Carolina', 'California', 'New York', 'Wyoming',\n",
              "       'Michigan', 'Alaska', 'Maryland', 'Kansas', 'Tennessee', 'Texas',\n",
              "       'Maine', 'Arizona', 'Georgia', 'Arkansas', 'New Jersey',\n",
              "       'South Dakota', 'Alabama', 'Oregon', 'West Virginia',\n",
              "       'Massachusetts', 'Utah', 'Montana', 'New Hampshire', 'New Mexico',\n",
              "       'Rhode Island', 'Nevada', 'Connecticut', 'Hawaii', 'Delaware'],\n",
              "      dtype=object)"
            ]
          },
          "execution_count": 8,
          "metadata": {},
          "output_type": "execute_result"
        }
      ],
      "source": [
        "population[population[\"State\"]!=\"District of Columbia\"][\"State\"].unique()"
      ]
    },
    {
      "cell_type": "markdown",
      "metadata": {
        "id": "XSCxfvWr2Teo"
      },
      "source": [
        "#### 6. ¿Cuáles son los nombres de condados más comunes en los Estados Unidos?"
      ]
    },
    {
      "cell_type": "code",
      "execution_count": null,
      "metadata": {
        "id": "WjieIX_42Teo",
        "outputId": "e8483768-bd88-431d-bf7e-b82f44083cc7"
      },
      "outputs": [],
      "source": []
    },
    {
      "cell_type": "markdown",
      "metadata": {
        "id": "WriM1TxQ2Tep"
      },
      "source": [
        "#### 7. De acuerdo al censo de 2010, ¿Cuáles son los 5 condados con mayor población?"
      ]
    },
    {
      "cell_type": "code",
      "execution_count": 58,
      "metadata": {
        "colab": {
          "base_uri": "https://localhost:8080/",
          "height": 206
        },
        "collapsed": true,
        "id": "-X0ZdSBD2Tep",
        "jupyter": {
          "outputs_hidden": true
        },
        "outputId": "63785733-c5e0-423b-bb0d-cc7c42be529c",
        "scrolled": true
      },
      "outputs": [
        {
          "data": {
            "text/plain": [
              "1713    Los Angeles County\n",
              "628            Cook County\n",
              "1209         Harris County\n",
              "1784       Maricopa County\n",
              "2501      San Diego County\n",
              "Name: County, dtype: object"
            ]
          },
          "execution_count": 58,
          "metadata": {},
          "output_type": "execute_result"
        }
      ],
      "source": [
        "population.sort_values([\"2010Census\"],ascending=False).head()[\"County\"]"
      ]
    },
    {
      "cell_type": "markdown",
      "metadata": {
        "id": "-vd6E7O72Tep"
      },
      "source": [
        "#### 8. De acuerdo al censo de 2010, ¿Cuaĺes son los 5 estados más poblados?"
      ]
    },
    {
      "cell_type": "code",
      "execution_count": 59,
      "metadata": {
        "colab": {
          "base_uri": "https://localhost:8080/",
          "height": 237
        },
        "id": "nU_LfEz23HIp",
        "outputId": "30cdbb6f-1490-4259-eb48-4092c55ab0c4"
      },
      "outputs": [
        {
          "data": {
            "text/plain": [
              "1713    California\n",
              "628       Illinois\n",
              "1209         Texas\n",
              "1784       Arizona\n",
              "2501    California\n",
              "Name: State, dtype: object"
            ]
          },
          "execution_count": 59,
          "metadata": {},
          "output_type": "execute_result"
        }
      ],
      "source": [
        "population.sort_values([\"2010Census\"],ascending=False).head()[\"State\"]"
      ]
    },
    {
      "cell_type": "markdown",
      "metadata": {
        "id": "udk7XqVK2Teq"
      },
      "source": [
        "#### 9. En 2010, ¿Cuántos condados tenían una población mayor a un millón de habitantes?"
      ]
    },
    {
      "cell_type": "code",
      "execution_count": 12,
      "metadata": {
        "colab": {
          "base_uri": "https://localhost:8080/"
        },
        "collapsed": true,
        "id": "qrB1DaQQ2Teq",
        "jupyter": {
          "outputs_hidden": true
        },
        "outputId": "e2f8796b-a34c-4794-f7e7-4c60bcd7c04b"
      },
      "outputs": [
        {
          "data": {
            "text/plain": [
              "38"
            ]
          },
          "execution_count": 12,
          "metadata": {},
          "output_type": "execute_result"
        }
      ],
      "source": [
        "population[population[\"2010Census\"]>1000000][\"County\"].nunique()"
      ]
    },
    {
      "cell_type": "markdown",
      "metadata": {
        "id": "xE-4-eF72Teq"
      },
      "source": [
        "#### 10. ¿Cuántos condados no tienen la palabra 'County' en su nombre?"
      ]
    },
    {
      "cell_type": "code",
      "execution_count": 27,
      "metadata": {
        "colab": {
          "base_uri": "https://localhost:8080/"
        },
        "id": "PvDfqcdT2Ter",
        "outputId": "d108628b-c27f-4185-bbb4-fcb168bd8b37"
      },
      "outputs": [
        {
          "data": {
            "text/plain": [
              "135"
            ]
          },
          "execution_count": 27,
          "metadata": {},
          "output_type": "execute_result"
        }
      ],
      "source": [
        "population[\"County\"].nunique()-population[population[\"County\"].str.contains(\"County\",)][\"County\"].nunique()"
      ]
    },
    {
      "cell_type": "code",
      "execution_count": 60,
      "metadata": {},
      "outputs": [
        {
          "data": {
            "text/plain": [
              "135"
            ]
          },
          "execution_count": 60,
          "metadata": {},
          "output_type": "execute_result"
        }
      ],
      "source": [
        "population[population[\"County\"].str.contains(\"County\")==False][\"County\"].nunique()\n"
      ]
    },
    {
      "cell_type": "markdown",
      "metadata": {
        "id": "HNun_K8i2Ter"
      },
      "source": [
        "#### 11. Agrega una columna que calcule el cambio porcentual entre lo reportado por el censo de 2010 y el estimado de población de 2017."
      ]
    },
    {
      "cell_type": "code",
      "execution_count": 68,
      "metadata": {
        "colab": {
          "base_uri": "https://localhost:8080/",
          "height": 206
        },
        "id": "4dz1oKHR2Ter",
        "outputId": "b4054454-4c96-4e07-979f-57fa4a7589b3"
      },
      "outputs": [
        {
          "data": {
            "text/html": [
              "<div>\n",
              "<style scoped>\n",
              "    .dataframe tbody tr th:only-of-type {\n",
              "        vertical-align: middle;\n",
              "    }\n",
              "\n",
              "    .dataframe tbody tr th {\n",
              "        vertical-align: top;\n",
              "    }\n",
              "\n",
              "    .dataframe thead th {\n",
              "        text-align: right;\n",
              "    }\n",
              "</style>\n",
              "<table border=\"1\" class=\"dataframe\">\n",
              "  <thead>\n",
              "    <tr style=\"text-align: right;\">\n",
              "      <th></th>\n",
              "      <th>County</th>\n",
              "      <th>State</th>\n",
              "      <th>2010Census</th>\n",
              "      <th>2017PopEstimate</th>\n",
              "      <th>Percentage 2010/2017</th>\n",
              "    </tr>\n",
              "  </thead>\n",
              "  <tbody>\n",
              "    <tr>\n",
              "      <th>0</th>\n",
              "      <td>Abbeville County</td>\n",
              "      <td>South Carolina</td>\n",
              "      <td>25417</td>\n",
              "      <td>24722</td>\n",
              "      <td>-2.734390</td>\n",
              "    </tr>\n",
              "    <tr>\n",
              "      <th>1</th>\n",
              "      <td>Acadia Parish</td>\n",
              "      <td>Louisiana</td>\n",
              "      <td>61773</td>\n",
              "      <td>62590</td>\n",
              "      <td>1.322584</td>\n",
              "    </tr>\n",
              "    <tr>\n",
              "      <th>2</th>\n",
              "      <td>Accomack County</td>\n",
              "      <td>Virginia</td>\n",
              "      <td>33164</td>\n",
              "      <td>32545</td>\n",
              "      <td>-1.866482</td>\n",
              "    </tr>\n",
              "    <tr>\n",
              "      <th>3</th>\n",
              "      <td>Ada County</td>\n",
              "      <td>Idaho</td>\n",
              "      <td>392365</td>\n",
              "      <td>456849</td>\n",
              "      <td>16.434697</td>\n",
              "    </tr>\n",
              "    <tr>\n",
              "      <th>4</th>\n",
              "      <td>Adair County</td>\n",
              "      <td>Iowa</td>\n",
              "      <td>7682</td>\n",
              "      <td>7054</td>\n",
              "      <td>-8.174954</td>\n",
              "    </tr>\n",
              "    <tr>\n",
              "      <th>...</th>\n",
              "      <td>...</td>\n",
              "      <td>...</td>\n",
              "      <td>...</td>\n",
              "      <td>...</td>\n",
              "      <td>...</td>\n",
              "    </tr>\n",
              "    <tr>\n",
              "      <th>3137</th>\n",
              "      <td>Yuma County</td>\n",
              "      <td>Arizona</td>\n",
              "      <td>195751</td>\n",
              "      <td>207534</td>\n",
              "      <td>6.019382</td>\n",
              "    </tr>\n",
              "    <tr>\n",
              "      <th>3138</th>\n",
              "      <td>Yuma County</td>\n",
              "      <td>Colorado</td>\n",
              "      <td>10043</td>\n",
              "      <td>10075</td>\n",
              "      <td>0.318630</td>\n",
              "    </tr>\n",
              "    <tr>\n",
              "      <th>3139</th>\n",
              "      <td>Zapata County</td>\n",
              "      <td>Texas</td>\n",
              "      <td>14018</td>\n",
              "      <td>14322</td>\n",
              "      <td>2.168640</td>\n",
              "    </tr>\n",
              "    <tr>\n",
              "      <th>3140</th>\n",
              "      <td>Zavala County</td>\n",
              "      <td>Texas</td>\n",
              "      <td>11677</td>\n",
              "      <td>11948</td>\n",
              "      <td>2.320802</td>\n",
              "    </tr>\n",
              "    <tr>\n",
              "      <th>3141</th>\n",
              "      <td>Ziebach County</td>\n",
              "      <td>South Dakota</td>\n",
              "      <td>2801</td>\n",
              "      <td>2756</td>\n",
              "      <td>-1.606569</td>\n",
              "    </tr>\n",
              "  </tbody>\n",
              "</table>\n",
              "<p>3142 rows × 5 columns</p>\n",
              "</div>"
            ],
            "text/plain": [
              "                County           State  2010Census  2017PopEstimate  \\\n",
              "0     Abbeville County  South Carolina       25417            24722   \n",
              "1        Acadia Parish       Louisiana       61773            62590   \n",
              "2      Accomack County        Virginia       33164            32545   \n",
              "3           Ada County           Idaho      392365           456849   \n",
              "4         Adair County            Iowa        7682             7054   \n",
              "...                ...             ...         ...              ...   \n",
              "3137       Yuma County         Arizona      195751           207534   \n",
              "3138       Yuma County        Colorado       10043            10075   \n",
              "3139     Zapata County           Texas       14018            14322   \n",
              "3140     Zavala County           Texas       11677            11948   \n",
              "3141    Ziebach County    South Dakota        2801             2756   \n",
              "\n",
              "      Percentage 2010/2017  \n",
              "0                -2.734390  \n",
              "1                 1.322584  \n",
              "2                -1.866482  \n",
              "3                16.434697  \n",
              "4                -8.174954  \n",
              "...                    ...  \n",
              "3137              6.019382  \n",
              "3138              0.318630  \n",
              "3139              2.168640  \n",
              "3140              2.320802  \n",
              "3141             -1.606569  \n",
              "\n",
              "[3142 rows x 5 columns]"
            ]
          },
          "execution_count": 68,
          "metadata": {},
          "output_type": "execute_result"
        }
      ],
      "source": [
        "population[\"Percentage 2010/2017\"]=(population[\"2017PopEstimate\"]-population[\"2010Census\"])/(population[\"2010Census\"])*100\n",
        "population"
      ]
    },
    {
      "cell_type": "markdown",
      "metadata": {
        "id": "xho6z7bz2Tes"
      },
      "source": [
        "<strong>Pregunta Extra: ¿Cuaĺes son los estados que tienen el mayor cambio porcentual entre lo reportado por censo de 2010 y el estimado de población de 2017?</strong><br>Este ejercicio requiere de varias lineas de código, ya que require recalcular el cambio porcentual."
      ]
    },
    {
      "cell_type": "code",
      "execution_count": 81,
      "metadata": {
        "colab": {
          "base_uri": "https://localhost:8080/",
          "height": 237
        },
        "collapsed": true,
        "id": "uFseq-AT2Tes",
        "jupyter": {
          "outputs_hidden": true
        },
        "outputId": "030554d6-b702-431c-a3cf-324c0d00b9c1"
      },
      "outputs": [
        {
          "data": {
            "text/plain": [
              "<bound method SeriesGroupBy.describe of <pandas.core.groupby.generic.SeriesGroupBy object at 0x0000020CA9CD4FA0>>"
            ]
          },
          "execution_count": 81,
          "metadata": {},
          "output_type": "execute_result"
        }
      ],
      "source": [
        "population[\"2010Census\"].groupby(population[\"State\"])"
      ]
    },
    {
      "cell_type": "markdown",
      "metadata": {
        "id": "47b3Ha7s2Tes"
      },
      "source": [
        "# ¡Buen trabajo!"
      ]
    }
  ],
  "metadata": {
    "colab": {
      "collapsed_sections": [],
      "name": "Ejercicios_Pandas.ipynb",
      "provenance": []
    },
    "kernelspec": {
      "display_name": "Python 3.10.4 64-bit",
      "language": "python",
      "name": "python3"
    },
    "language_info": {
      "codemirror_mode": {
        "name": "ipython",
        "version": 3
      },
      "file_extension": ".py",
      "mimetype": "text/x-python",
      "name": "python",
      "nbconvert_exporter": "python",
      "pygments_lexer": "ipython3",
      "version": "3.10.4"
    },
    "vscode": {
      "interpreter": {
        "hash": "6483d42e64b705807ee7ab627fc5c3df04fe935c6b01693ce46ae2d688d3de35"
      }
    }
  },
  "nbformat": 4,
  "nbformat_minor": 0
}
