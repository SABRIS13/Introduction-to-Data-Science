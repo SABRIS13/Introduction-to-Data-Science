{
  "cells": [
    {
      "cell_type": "markdown",
      "metadata": {
        "id": "RRaW_DI12TeY"
      },
      "source": [
        "# Ejercicios de Pandas\n",
        "\n",
        "Es momento de poner a pruebas tus nuevas habilidades. Utiliza el archivo <tt>population_by_county.csv</tt> para completar las tareas en negritas en la parte de abajo.\n",
        "\n",
        "[Data](https://github.com/gupta24789/Machine-Learning-Datasets/blob/master/population_by_county.csv)\n",
        "\n",
        "<div class=\"alert alert-info\" style=\"margin: 10px\"><strong>NOTA:</strong>TODOS LOS EJERCICIOS PUDEN REALIZARSE CON UNA SOLA LINEA DE CODIGO DE PANDAS.</div>\n"
      ]
    },
    {
      "cell_type": "markdown",
      "metadata": {
        "id": "YgjOv01B2Tee"
      },
      "source": [
        "#### 1. Importa pandas y lee el archivo <tt>population_by_county.csv</tt> en una dataframe llamado <tt>pop</tt>."
      ]
    },
    {
      "cell_type": "code",
      "execution_count": null,
      "metadata": {
        "id": "j6VNtTSZ2Tef"
      },
      "outputs": [],
      "source": [
        "import pandas as pd"
      ]
    },
    {
      "cell_type": "code",
      "execution_count": null,
      "metadata": {
        "id": "laEAh8Gz2Teg"
      },
      "outputs": [],
      "source": [
        "population = pd.read_csv(\"population.csv\")"
      ]
    },
    {
      "cell_type": "markdown",
      "metadata": {
        "id": "EqLaYFjM2Teh"
      },
      "source": [
        "#### 2. Muestra el head del dataframe."
      ]
    },
    {
      "cell_type": "code",
      "execution_count": null,
      "metadata": {
        "colab": {
          "base_uri": "https://localhost:8080/",
          "height": 206
        },
        "id": "MY0FfoHq2Teh",
        "outputId": "8e96c0b1-f24e-4b92-ea70-6bd78cf0ef7a"
      },
      "outputs": [
        {
          "data": {
            "text/html": [
              "\n",
              "  <div id=\"df-8ad7cd29-2656-46aa-b464-bcd5f6fbde48\">\n",
              "    <div class=\"colab-df-container\">\n",
              "      <div>\n",
              "<style scoped>\n",
              "    .dataframe tbody tr th:only-of-type {\n",
              "        vertical-align: middle;\n",
              "    }\n",
              "\n",
              "    .dataframe tbody tr th {\n",
              "        vertical-align: top;\n",
              "    }\n",
              "\n",
              "    .dataframe thead th {\n",
              "        text-align: right;\n",
              "    }\n",
              "</style>\n",
              "<table border=\"1\" class=\"dataframe\">\n",
              "  <thead>\n",
              "    <tr style=\"text-align: right;\">\n",
              "      <th></th>\n",
              "      <th>County</th>\n",
              "      <th>State</th>\n",
              "      <th>2010Census</th>\n",
              "      <th>2017PopEstimate</th>\n",
              "    </tr>\n",
              "  </thead>\n",
              "  <tbody>\n",
              "    <tr>\n",
              "      <th>0</th>\n",
              "      <td>Abbeville County</td>\n",
              "      <td>South Carolina</td>\n",
              "      <td>25417</td>\n",
              "      <td>24722</td>\n",
              "    </tr>\n",
              "    <tr>\n",
              "      <th>1</th>\n",
              "      <td>Acadia Parish</td>\n",
              "      <td>Louisiana</td>\n",
              "      <td>61773</td>\n",
              "      <td>62590</td>\n",
              "    </tr>\n",
              "    <tr>\n",
              "      <th>2</th>\n",
              "      <td>Accomack County</td>\n",
              "      <td>Virginia</td>\n",
              "      <td>33164</td>\n",
              "      <td>32545</td>\n",
              "    </tr>\n",
              "    <tr>\n",
              "      <th>3</th>\n",
              "      <td>Ada County</td>\n",
              "      <td>Idaho</td>\n",
              "      <td>392365</td>\n",
              "      <td>456849</td>\n",
              "    </tr>\n",
              "    <tr>\n",
              "      <th>4</th>\n",
              "      <td>Adair County</td>\n",
              "      <td>Iowa</td>\n",
              "      <td>7682</td>\n",
              "      <td>7054</td>\n",
              "    </tr>\n",
              "  </tbody>\n",
              "</table>\n",
              "</div>\n",
              "      <button class=\"colab-df-convert\" onclick=\"convertToInteractive('df-8ad7cd29-2656-46aa-b464-bcd5f6fbde48')\"\n",
              "              title=\"Convert this dataframe to an interactive table.\"\n",
              "              style=\"display:none;\">\n",
              "        \n",
              "  <svg xmlns=\"http://www.w3.org/2000/svg\" height=\"24px\"viewBox=\"0 0 24 24\"\n",
              "       width=\"24px\">\n",
              "    <path d=\"M0 0h24v24H0V0z\" fill=\"none\"/>\n",
              "    <path d=\"M18.56 5.44l.94 2.06.94-2.06 2.06-.94-2.06-.94-.94-2.06-.94 2.06-2.06.94zm-11 1L8.5 8.5l.94-2.06 2.06-.94-2.06-.94L8.5 2.5l-.94 2.06-2.06.94zm10 10l.94 2.06.94-2.06 2.06-.94-2.06-.94-.94-2.06-.94 2.06-2.06.94z\"/><path d=\"M17.41 7.96l-1.37-1.37c-.4-.4-.92-.59-1.43-.59-.52 0-1.04.2-1.43.59L10.3 9.45l-7.72 7.72c-.78.78-.78 2.05 0 2.83L4 21.41c.39.39.9.59 1.41.59.51 0 1.02-.2 1.41-.59l7.78-7.78 2.81-2.81c.8-.78.8-2.07 0-2.86zM5.41 20L4 18.59l7.72-7.72 1.47 1.35L5.41 20z\"/>\n",
              "  </svg>\n",
              "      </button>\n",
              "      \n",
              "  <style>\n",
              "    .colab-df-container {\n",
              "      display:flex;\n",
              "      flex-wrap:wrap;\n",
              "      gap: 12px;\n",
              "    }\n",
              "\n",
              "    .colab-df-convert {\n",
              "      background-color: #E8F0FE;\n",
              "      border: none;\n",
              "      border-radius: 50%;\n",
              "      cursor: pointer;\n",
              "      display: none;\n",
              "      fill: #1967D2;\n",
              "      height: 32px;\n",
              "      padding: 0 0 0 0;\n",
              "      width: 32px;\n",
              "    }\n",
              "\n",
              "    .colab-df-convert:hover {\n",
              "      background-color: #E2EBFA;\n",
              "      box-shadow: 0px 1px 2px rgba(60, 64, 67, 0.3), 0px 1px 3px 1px rgba(60, 64, 67, 0.15);\n",
              "      fill: #174EA6;\n",
              "    }\n",
              "\n",
              "    [theme=dark] .colab-df-convert {\n",
              "      background-color: #3B4455;\n",
              "      fill: #D2E3FC;\n",
              "    }\n",
              "\n",
              "    [theme=dark] .colab-df-convert:hover {\n",
              "      background-color: #434B5C;\n",
              "      box-shadow: 0px 1px 3px 1px rgba(0, 0, 0, 0.15);\n",
              "      filter: drop-shadow(0px 1px 2px rgba(0, 0, 0, 0.3));\n",
              "      fill: #FFFFFF;\n",
              "    }\n",
              "  </style>\n",
              "\n",
              "      <script>\n",
              "        const buttonEl =\n",
              "          document.querySelector('#df-8ad7cd29-2656-46aa-b464-bcd5f6fbde48 button.colab-df-convert');\n",
              "        buttonEl.style.display =\n",
              "          google.colab.kernel.accessAllowed ? 'block' : 'none';\n",
              "\n",
              "        async function convertToInteractive(key) {\n",
              "          const element = document.querySelector('#df-8ad7cd29-2656-46aa-b464-bcd5f6fbde48');\n",
              "          const dataTable =\n",
              "            await google.colab.kernel.invokeFunction('convertToInteractive',\n",
              "                                                     [key], {});\n",
              "          if (!dataTable) return;\n",
              "\n",
              "          const docLinkHtml = 'Like what you see? Visit the ' +\n",
              "            '<a target=\"_blank\" href=https://colab.research.google.com/notebooks/data_table.ipynb>data table notebook</a>'\n",
              "            + ' to learn more about interactive tables.';\n",
              "          element.innerHTML = '';\n",
              "          dataTable['output_type'] = 'display_data';\n",
              "          await google.colab.output.renderOutput(dataTable, element);\n",
              "          const docLink = document.createElement('div');\n",
              "          docLink.innerHTML = docLinkHtml;\n",
              "          element.appendChild(docLink);\n",
              "        }\n",
              "      </script>\n",
              "    </div>\n",
              "  </div>\n",
              "  "
            ],
            "text/plain": [
              "             County           State  2010Census  2017PopEstimate\n",
              "0  Abbeville County  South Carolina       25417            24722\n",
              "1     Acadia Parish       Louisiana       61773            62590\n",
              "2   Accomack County        Virginia       33164            32545\n",
              "3        Ada County           Idaho      392365           456849\n",
              "4      Adair County            Iowa        7682             7054"
            ]
          },
          "execution_count": 3,
          "metadata": {},
          "output_type": "execute_result"
        }
      ],
      "source": []
    },
    {
      "cell_type": "markdown",
      "metadata": {
        "id": "x0vNyKqu2Tek"
      },
      "source": [
        "#### 3. ¿Cuáles son los nombres de las columnas?"
      ]
    },
    {
      "cell_type": "code",
      "execution_count": null,
      "metadata": {
        "colab": {
          "base_uri": "https://localhost:8080/"
        },
        "collapsed": true,
        "id": "Wuf9aUfB2Tel",
        "jupyter": {
          "outputs_hidden": true
        },
        "outputId": "eb0c6800-3415-400b-bd2e-420afef8d90e"
      },
      "outputs": [],
      "source": []
    },
    {
      "cell_type": "markdown",
      "metadata": {
        "id": "PW03cNmq2Tem"
      },
      "source": [
        "<strong>4. ¿Cuántos estados están representados en este dataset?</strong> <em>Nota: los datos incluyen el distrito de Columbia</em>"
      ]
    },
    {
      "cell_type": "code",
      "execution_count": null,
      "metadata": {
        "colab": {
          "base_uri": "https://localhost:8080/"
        },
        "collapsed": true,
        "id": "Z-Ppz3X02Ten",
        "jupyter": {
          "outputs_hidden": true
        },
        "outputId": "7beebbbd-86f4-4e8a-d09a-f57609590b39"
      },
      "outputs": [],
      "source": []
    },
    {
      "cell_type": "markdown",
      "metadata": {
        "id": "0atRjNjh2Ten"
      },
      "source": [
        "#### 5. Obtén una listo o arreglo de todos los estados en el dataset"
      ]
    },
    {
      "cell_type": "code",
      "execution_count": null,
      "metadata": {
        "colab": {
          "base_uri": "https://localhost:8080/"
        },
        "collapsed": true,
        "id": "Mb09GA8s2Teo",
        "jupyter": {
          "outputs_hidden": true
        },
        "outputId": "c327ff31-2e47-4def-f127-f604dd79b4ed"
      },
      "outputs": [],
      "source": []
    },
    {
      "cell_type": "markdown",
      "metadata": {
        "id": "XSCxfvWr2Teo"
      },
      "source": [
        "#### 6. ¿Cuáles son los nombres de condados más comunes en los Estados Unidos?"
      ]
    },
    {
      "cell_type": "code",
      "execution_count": null,
      "metadata": {
        "id": "WjieIX_42Teo",
        "outputId": "e8483768-bd88-431d-bf7e-b82f44083cc7"
      },
      "outputs": [],
      "source": []
    },
    {
      "cell_type": "markdown",
      "metadata": {
        "id": "WriM1TxQ2Tep"
      },
      "source": [
        "#### 7. De acuerdo al censo de 2010, ¿Cuáles son los 5 condados con mayor población?"
      ]
    },
    {
      "cell_type": "code",
      "execution_count": null,
      "metadata": {
        "colab": {
          "base_uri": "https://localhost:8080/",
          "height": 206
        },
        "collapsed": true,
        "id": "-X0ZdSBD2Tep",
        "jupyter": {
          "outputs_hidden": true
        },
        "outputId": "63785733-c5e0-423b-bb0d-cc7c42be529c",
        "scrolled": true
      },
      "outputs": [],
      "source": []
    },
    {
      "cell_type": "markdown",
      "metadata": {
        "id": "-vd6E7O72Tep"
      },
      "source": [
        "#### 8. De acuerdo al censo de 2010, ¿Cuaĺes son los 5 estados más poblados?"
      ]
    },
    {
      "cell_type": "code",
      "execution_count": null,
      "metadata": {
        "colab": {
          "base_uri": "https://localhost:8080/",
          "height": 237
        },
        "id": "nU_LfEz23HIp",
        "outputId": "30cdbb6f-1490-4259-eb48-4092c55ab0c4"
      },
      "outputs": [],
      "source": []
    },
    {
      "cell_type": "markdown",
      "metadata": {
        "id": "udk7XqVK2Teq"
      },
      "source": [
        "#### 9. En 2010, ¿Cuántos condados tenían una población mayor a un millón de habitantes?"
      ]
    },
    {
      "cell_type": "code",
      "execution_count": null,
      "metadata": {
        "colab": {
          "base_uri": "https://localhost:8080/"
        },
        "collapsed": true,
        "id": "qrB1DaQQ2Teq",
        "jupyter": {
          "outputs_hidden": true
        },
        "outputId": "e2f8796b-a34c-4794-f7e7-4c60bcd7c04b"
      },
      "outputs": [],
      "source": []
    },
    {
      "cell_type": "markdown",
      "metadata": {
        "id": "xE-4-eF72Teq"
      },
      "source": [
        "#### 10. ¿Cuántos condados no tienen la palabra 'County' en su nombre?"
      ]
    },
    {
      "cell_type": "code",
      "execution_count": null,
      "metadata": {
        "colab": {
          "base_uri": "https://localhost:8080/"
        },
        "id": "PvDfqcdT2Ter",
        "outputId": "d108628b-c27f-4185-bbb4-fcb168bd8b37"
      },
      "outputs": [],
      "source": []
    },
    {
      "cell_type": "markdown",
      "metadata": {
        "id": "HNun_K8i2Ter"
      },
      "source": [
        "#### 11. Agrega una columna que calcule el cambio porcentual entre lo reportado por el censo de 2010 y el estimado de población de 2017."
      ]
    },
    {
      "cell_type": "code",
      "execution_count": null,
      "metadata": {
        "colab": {
          "base_uri": "https://localhost:8080/",
          "height": 206
        },
        "id": "4dz1oKHR2Ter",
        "outputId": "b4054454-4c96-4e07-979f-57fa4a7589b3"
      },
      "outputs": [],
      "source": []
    },
    {
      "cell_type": "markdown",
      "metadata": {
        "id": "xho6z7bz2Tes"
      },
      "source": [
        "<strong>Pregunta Extra: ¿Cuaĺes son los estados que tienen el mayor cambio porcentual entre lo reportado por censo de 2010 y el estimado de población de 2017?</strong><br>Este ejercicio requiere de varias lineas de código, ya que require recalcular el cambio porcentual."
      ]
    },
    {
      "cell_type": "code",
      "execution_count": null,
      "metadata": {
        "colab": {
          "base_uri": "https://localhost:8080/",
          "height": 237
        },
        "collapsed": true,
        "id": "uFseq-AT2Tes",
        "jupyter": {
          "outputs_hidden": true
        },
        "outputId": "030554d6-b702-431c-a3cf-324c0d00b9c1"
      },
      "outputs": [],
      "source": []
    },
    {
      "cell_type": "markdown",
      "metadata": {
        "id": "47b3Ha7s2Tes"
      },
      "source": [
        "# ¡Buen trabajo!"
      ]
    }
  ],
  "metadata": {
    "colab": {
      "collapsed_sections": [],
      "name": "Ejercicios_Pandas.ipynb",
      "provenance": []
    },
    "kernelspec": {
      "display_name": "Python 3 (ipykernel)",
      "language": "python",
      "name": "python3"
    },
    "language_info": {
      "codemirror_mode": {
        "name": "ipython",
        "version": 3
      },
      "file_extension": ".py",
      "mimetype": "text/x-python",
      "name": "python",
      "nbconvert_exporter": "python",
      "pygments_lexer": "ipython3",
      "version": "3.9.2"
    }
  },
  "nbformat": 4,
  "nbformat_minor": 0
}
