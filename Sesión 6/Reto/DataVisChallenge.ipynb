{
  "cells": [
    {
      "cell_type": "markdown",
      "metadata": {
        "id": "VK_8LVfuLTC5"
      },
      "source": [
        "# Challenge: Personas desaparecidas"
      ]
    },
    {
      "cell_type": "markdown",
      "metadata": {
        "id": "sncJiaehLTC_"
      },
      "source": [
        "El siguiente dataset es un conjunto de datos acerca de personas desaperecidas en la república mexicana, del año 2010 al 2015."
      ]
    },
    {
      "cell_type": "markdown",
      "metadata": {
        "id": "pgE01D9bLTDA"
      },
      "source": [
        "### Diccionario de datos:\n",
        "\n",
        "- inegi: Clave dada por el INEGI a cada municipio. Primeros dos dígitos \n",
        "- corresponden al estado, los siguientes tres al municipio\n",
        "- ent: Parte de la clave de INEGI que corresponde a la entidad federativa.\n",
        "- nom_ent: Nombre oficial de la entidad federativa.\n",
        "- year: Año en el que se denunciaron las despariciones\n",
        "- sexo: Sexo de las personas desaparecidas\n",
        "- rango_edad: Rango de edades de las personas en el grupo en cuestión.\n",
        "- pob: Población total del municipio en ese año para ese grupo.\n",
        "- total: Total de personas deparecidas de ese grupo en ese año.\n",
        "- tdes: Tasa de desaparecidos en ese municipio en ese grupo\n",
        "\n",
        "Nota: Recuerda, cada observación corresponde a un grupo de personas desparecidas de un cierto sexo, en un cierto municipio y un cierto rango de edad."
      ]
    },
    {
      "cell_type": "code",
      "execution_count": 1,
      "metadata": {
        "id": "-aemq2L_LTDB"
      },
      "outputs": [],
      "source": [
        "import numpy as np\n",
        "import pandas as pd\n",
        "import matplotlib.pyplot as plt\n",
        "# %matplotlib inline #Se utilizar para mostrar la gráfica inmediatamente después del código \n",
        "import seaborn as sns"
      ]
    },
    {
      "cell_type": "code",
      "execution_count": 2,
      "metadata": {
        "colab": {
          "background_save": true,
          "base_uri": "https://localhost:8080/",
          "height": 424
        },
        "id": "iHPCxK6ULTDC",
        "outputId": "d5021fb7-e646-491a-aaf2-4dbaa9b948cb"
      },
      "outputs": [
        {
          "data": {
            "text/html": [
              "<div>\n",
              "<style scoped>\n",
              "    .dataframe tbody tr th:only-of-type {\n",
              "        vertical-align: middle;\n",
              "    }\n",
              "\n",
              "    .dataframe tbody tr th {\n",
              "        vertical-align: top;\n",
              "    }\n",
              "\n",
              "    .dataframe thead th {\n",
              "        text-align: right;\n",
              "    }\n",
              "</style>\n",
              "<table border=\"1\" class=\"dataframe\">\n",
              "  <thead>\n",
              "    <tr style=\"text-align: right;\">\n",
              "      <th></th>\n",
              "      <th>inegi</th>\n",
              "      <th>ent</th>\n",
              "      <th>nom_ent</th>\n",
              "      <th>mun</th>\n",
              "      <th>nom_mun</th>\n",
              "      <th>year</th>\n",
              "      <th>sexo</th>\n",
              "      <th>rango_edad</th>\n",
              "      <th>pob</th>\n",
              "      <th>total</th>\n",
              "      <th>tdes</th>\n",
              "    </tr>\n",
              "  </thead>\n",
              "  <tbody>\n",
              "    <tr>\n",
              "      <th>0</th>\n",
              "      <td>1001</td>\n",
              "      <td>1</td>\n",
              "      <td>Aguascalientes</td>\n",
              "      <td>1</td>\n",
              "      <td>Aguascalientes</td>\n",
              "      <td>2010</td>\n",
              "      <td>Hombre</td>\n",
              "      <td>0 a 11 años</td>\n",
              "      <td>95973</td>\n",
              "      <td>1</td>\n",
              "      <td>1.04</td>\n",
              "    </tr>\n",
              "    <tr>\n",
              "      <th>1</th>\n",
              "      <td>1001</td>\n",
              "      <td>1</td>\n",
              "      <td>Aguascalientes</td>\n",
              "      <td>1</td>\n",
              "      <td>Aguascalientes</td>\n",
              "      <td>2010</td>\n",
              "      <td>Hombre</td>\n",
              "      <td>12 a 17 años</td>\n",
              "      <td>45451</td>\n",
              "      <td>0</td>\n",
              "      <td>0.00</td>\n",
              "    </tr>\n",
              "    <tr>\n",
              "      <th>2</th>\n",
              "      <td>1001</td>\n",
              "      <td>1</td>\n",
              "      <td>Aguascalientes</td>\n",
              "      <td>1</td>\n",
              "      <td>Aguascalientes</td>\n",
              "      <td>2010</td>\n",
              "      <td>Hombre</td>\n",
              "      <td>18 a 25 años</td>\n",
              "      <td>56448</td>\n",
              "      <td>1</td>\n",
              "      <td>1.77</td>\n",
              "    </tr>\n",
              "    <tr>\n",
              "      <th>3</th>\n",
              "      <td>1001</td>\n",
              "      <td>1</td>\n",
              "      <td>Aguascalientes</td>\n",
              "      <td>1</td>\n",
              "      <td>Aguascalientes</td>\n",
              "      <td>2010</td>\n",
              "      <td>Hombre</td>\n",
              "      <td>26 a 40 años</td>\n",
              "      <td>86660</td>\n",
              "      <td>0</td>\n",
              "      <td>0.00</td>\n",
              "    </tr>\n",
              "    <tr>\n",
              "      <th>4</th>\n",
              "      <td>1001</td>\n",
              "      <td>1</td>\n",
              "      <td>Aguascalientes</td>\n",
              "      <td>1</td>\n",
              "      <td>Aguascalientes</td>\n",
              "      <td>2010</td>\n",
              "      <td>Hombre</td>\n",
              "      <td>41 a 64 años</td>\n",
              "      <td>80618</td>\n",
              "      <td>2</td>\n",
              "      <td>2.48</td>\n",
              "    </tr>\n",
              "    <tr>\n",
              "      <th>...</th>\n",
              "      <td>...</td>\n",
              "      <td>...</td>\n",
              "      <td>...</td>\n",
              "      <td>...</td>\n",
              "      <td>...</td>\n",
              "      <td>...</td>\n",
              "      <td>...</td>\n",
              "      <td>...</td>\n",
              "      <td>...</td>\n",
              "      <td>...</td>\n",
              "      <td>...</td>\n",
              "    </tr>\n",
              "    <tr>\n",
              "      <th>176839</th>\n",
              "      <td>32058</td>\n",
              "      <td>32</td>\n",
              "      <td>Zacatecas</td>\n",
              "      <td>58</td>\n",
              "      <td>Santa María de la Paz</td>\n",
              "      <td>2015</td>\n",
              "      <td>Mujer</td>\n",
              "      <td>12 a 17 años</td>\n",
              "      <td>131</td>\n",
              "      <td>0</td>\n",
              "      <td>0.00</td>\n",
              "    </tr>\n",
              "    <tr>\n",
              "      <th>176840</th>\n",
              "      <td>32058</td>\n",
              "      <td>32</td>\n",
              "      <td>Zacatecas</td>\n",
              "      <td>58</td>\n",
              "      <td>Santa María de la Paz</td>\n",
              "      <td>2015</td>\n",
              "      <td>Mujer</td>\n",
              "      <td>18 a 25 años</td>\n",
              "      <td>139</td>\n",
              "      <td>0</td>\n",
              "      <td>0.00</td>\n",
              "    </tr>\n",
              "    <tr>\n",
              "      <th>176841</th>\n",
              "      <td>32058</td>\n",
              "      <td>32</td>\n",
              "      <td>Zacatecas</td>\n",
              "      <td>58</td>\n",
              "      <td>Santa María de la Paz</td>\n",
              "      <td>2015</td>\n",
              "      <td>Mujer</td>\n",
              "      <td>26 a 40 años</td>\n",
              "      <td>275</td>\n",
              "      <td>0</td>\n",
              "      <td>0.00</td>\n",
              "    </tr>\n",
              "    <tr>\n",
              "      <th>176842</th>\n",
              "      <td>32058</td>\n",
              "      <td>32</td>\n",
              "      <td>Zacatecas</td>\n",
              "      <td>58</td>\n",
              "      <td>Santa María de la Paz</td>\n",
              "      <td>2015</td>\n",
              "      <td>Mujer</td>\n",
              "      <td>41 a 64 años</td>\n",
              "      <td>332</td>\n",
              "      <td>0</td>\n",
              "      <td>0.00</td>\n",
              "    </tr>\n",
              "    <tr>\n",
              "      <th>176843</th>\n",
              "      <td>32058</td>\n",
              "      <td>32</td>\n",
              "      <td>Zacatecas</td>\n",
              "      <td>58</td>\n",
              "      <td>Santa María de la Paz</td>\n",
              "      <td>2015</td>\n",
              "      <td>Mujer</td>\n",
              "      <td>65 o más años</td>\n",
              "      <td>197</td>\n",
              "      <td>0</td>\n",
              "      <td>0.00</td>\n",
              "    </tr>\n",
              "  </tbody>\n",
              "</table>\n",
              "<p>176844 rows × 11 columns</p>\n",
              "</div>"
            ],
            "text/plain": [
              "        inegi  ent         nom_ent  mun                nom_mun  year    sexo  \\\n",
              "0        1001    1  Aguascalientes    1         Aguascalientes  2010  Hombre   \n",
              "1        1001    1  Aguascalientes    1         Aguascalientes  2010  Hombre   \n",
              "2        1001    1  Aguascalientes    1         Aguascalientes  2010  Hombre   \n",
              "3        1001    1  Aguascalientes    1         Aguascalientes  2010  Hombre   \n",
              "4        1001    1  Aguascalientes    1         Aguascalientes  2010  Hombre   \n",
              "...       ...  ...             ...  ...                    ...   ...     ...   \n",
              "176839  32058   32       Zacatecas   58  Santa María de la Paz  2015   Mujer   \n",
              "176840  32058   32       Zacatecas   58  Santa María de la Paz  2015   Mujer   \n",
              "176841  32058   32       Zacatecas   58  Santa María de la Paz  2015   Mujer   \n",
              "176842  32058   32       Zacatecas   58  Santa María de la Paz  2015   Mujer   \n",
              "176843  32058   32       Zacatecas   58  Santa María de la Paz  2015   Mujer   \n",
              "\n",
              "           rango_edad    pob  total  tdes  \n",
              "0         0 a 11 años  95973      1  1.04  \n",
              "1        12 a 17 años  45451      0  0.00  \n",
              "2        18 a 25 años  56448      1  1.77  \n",
              "3        26 a 40 años  86660      0  0.00  \n",
              "4        41 a 64 años  80618      2  2.48  \n",
              "...               ...    ...    ...   ...  \n",
              "176839   12 a 17 años    131      0  0.00  \n",
              "176840   18 a 25 años    139      0  0.00  \n",
              "176841   26 a 40 años    275      0  0.00  \n",
              "176842   41 a 64 años    332      0  0.00  \n",
              "176843  65 o más años    197      0  0.00  \n",
              "\n",
              "[176844 rows x 11 columns]"
            ]
          },
          "execution_count": 2,
          "metadata": {},
          "output_type": "execute_result"
        }
      ],
      "source": [
        "df = pd.read_csv(\"rnped_limpia.csv\")\n",
        "df"
      ]
    },
    {
      "cell_type": "markdown",
      "metadata": {
        "id": "eOCMveMeLTDD"
      },
      "source": [
        "## Instrucciones\n",
        "Hay 3 preguntas clave que podemos responder con estos datos.\n",
        "\n",
        "1. ¿Cuántos desaparecidos hubo por municipio en...2011 (año más violento)?\n",
        "2. ¿Cuál es el porcentaje de desaparecidos por entidad en el año 2011?\n",
        "3. ¿Cuál es la tendencia de la tasa de desaparecidos en los años del 2010 al 2015 tomando en cuenta una línea por cada género?"
      ]
    },
    {
      "cell_type": "markdown",
      "metadata": {
        "id": "44NQMKAILTDD"
      },
      "source": [
        "#### Pregunta 1: ¿Cuántos desaparecidos hubo por municipio en...2011 (año más violento)?\n",
        "Esta primera gráfica será un scatter, pero que va a cumplir la función de las barras dado que vamos a graficar 2,456 municipios"
      ]
    },
    {
      "cell_type": "markdown",
      "metadata": {
        "id": "6wN5zOHFLTDE"
      },
      "source": [
        "<img src=\"https://storage.googleapis.com/campus-cvs/lectures/4.1%20DataVizChallenge2-1.png\" alt=\"scatter plot\" title=\"Total de desaparecidos por municipio\" width=\"850\" height=\"400\" />"
      ]
    },
    {
      "cell_type": "code",
      "execution_count": 13,
      "metadata": {},
      "outputs": [
        {
          "data": {
            "text/plain": [
              "2317"
            ]
          },
          "execution_count": 13,
          "metadata": {},
          "output_type": "execute_result"
        }
      ],
      "source": [
        "df[\"nom_mun\"].nunique()"
      ]
    },
    {
      "cell_type": "code",
      "execution_count": 16,
      "metadata": {
        "id": "3Bp3-2-vUXVF"
      },
      "outputs": [
        {
          "data": {
            "image/png": "[encoded data removed]",
            "text/plain": [
              "<Figure size 432x288 with 1 Axes>"
            ]
          },
          "metadata": {
            "needs_background": "light"
          },
          "output_type": "display_data"
        }
      ],
      "source": [
        " #codigo aqui\n",
        "sns.regplot(x=df[\"nom_mun\"], y=df[\"total\"],fit_reg=False)\n",
        "plt.title(\"Total de desaparecidos por municipio 2011\")\n",
        "plt.xlabel(\"Municipios\")\n",
        "plt.ylabel(\"Total de municipios\")\n",
        "plt.show()\n"
      ]
    },
    {
      "cell_type": "markdown",
      "metadata": {
        "id": "sZ4xeuFpLTDF"
      },
      "source": [
        "## Pregunta 2: ¿Cuál es la tendencia de la tasa de desaparecidos en los años del 2010 al 2015 tomando en cuenta una línea por cada género?\n",
        "Esta gráfica será una gráfica línea. Lo importante es conocer la diferencia en las tasas de desaparecidos por cada año y cada línea debe corresponder a un género."
      ]
    },
    {
      "cell_type": "markdown",
      "metadata": {
        "id": "jb7WMY-oLTDG"
      },
      "source": [
        "<img src=\"https://storage.googleapis.com/campus-cvs/lectures/4.1%20DataVizChallenge2-3.png\" alt=\"scatter plot\" title=\"Total de desaparecidos por municipio\" width=\"850\" height=\"400\" />"
      ]
    },
    {
      "cell_type": "code",
      "execution_count": 4,
      "metadata": {
        "id": "20j8VwAPUdZX"
      },
      "outputs": [],
      "source": [
        "#codigo aqui\n",
        "\n"
      ]
    },
    {
      "cell_type": "markdown",
      "metadata": {
        "id": "xgZWrRq7LTDG"
      },
      "source": [
        "## Pregunta 3: ¿Cuál es la tasa de desaparecidos por género y rango de edad?\n",
        "Esta gráfica queda a elección del alumno. Como sugerencia, puede utilizar un mapa de calor."
      ]
    },
    {
      "cell_type": "markdown",
      "metadata": {
        "id": "Bnb3tfkRLTDG"
      },
      "source": [
        "<img src=\"https://storage.googleapis.com/campus-cvs/lectures/4.1%20DataVizChallenge3-3.png\" alt=\"scatter plot\" title=\"Total de desaparecidos por municipio\" width=\"850\" height=\"400\" />"
      ]
    },
    {
      "cell_type": "code",
      "execution_count": 5,
      "metadata": {
        "id": "vqRQpvoHUeQx"
      },
      "outputs": [],
      "source": [
        "#codigo aqui\n",
        "\n",
        "\n"
      ]
    }
  ],
  "metadata": {
    "colab": {
      "collapsed_sections": [],
      "name": "Clase06_Challenge.ipynb",
      "provenance": []
    },
    "kernelspec": {
      "display_name": "Python 3.10.4 64-bit",
      "language": "python",
      "name": "python3"
    },
    "language_info": {
      "codemirror_mode": {
        "name": "ipython",
        "version": 3
      },
      "file_extension": ".py",
      "mimetype": "text/x-python",
      "name": "python",
      "nbconvert_exporter": "python",
      "pygments_lexer": "ipython3",
      "version": "3.10.4"
    },
    "vscode": {
      "interpreter": {
        "hash": "6483d42e64b705807ee7ab627fc5c3df04fe935c6b01693ce46ae2d688d3de35"
      }
    }
  },
  "nbformat": 4,
  "nbformat_minor": 0
}
