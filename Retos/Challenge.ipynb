{
  "cells": [
    {
      "cell_type": "markdown",
      "metadata": {
        "id": "cBZBLMC4zAt5"
      },
      "source": [
        "###Lectura de archivos CSV\n"
      ]
    },
    {
      "cell_type": "markdown",
      "metadata": {
        "id": "GxncPtjWC3hC"
      },
      "source": [
        "**MiniChallenge**\n",
        "1. Crear un archivo csv con un tabulador de **,** (coma) y con dos columnas; una con los **nombres** de los integrantes del equipo y la segunda con sus edades.\n",
        "2. Abrir y mostrar la columna de los nombres."
      ]
    },
    {
      "cell_type": "code",
      "execution_count": 3,
      "metadata": {
        "id": "pvWH-I-RzJag"
      },
      "outputs": [],
      "source": [
        "import csv"
      ]
    },
    {
      "cell_type": "code",
      "execution_count": 4,
      "metadata": {
        "id": "atGgqqbc1Va_"
      },
      "outputs": [],
      "source": [
        "#Crea y Escribe tu CSV aqui\n",
        "\n",
        "with open(\"Info_integrantes.csv\",\"w\",newline=\"\")as file:\n",
        "    writer=csv.writer(file)\n",
        "\n",
        "    writer.writerow([\"Name\",\"Age\"])\n",
        "    writer.writerow([\"Edgar\",\"24\"])\n",
        "    writer.writerow([\"Esti\",\"22\"])\n"
      ]
    },
    {
      "cell_type": "code",
      "execution_count": 5,
      "metadata": {
        "id": "Jqk9w5sieC0G"
      },
      "outputs": [
        {
          "data": {
            "text/plain": [
              "<_csv.reader at 0x1fe862a5f60>"
            ]
          },
          "execution_count": 5,
          "metadata": {},
          "output_type": "execute_result"
        }
      ],
      "source": [
        "#Lee tu CSV aqui \n",
        "csvfile=open(\"Info_integrantes.csv\",\"r\")\n",
        "reader=csv.reader(csvfile)\n",
        "reader"
      ]
    },
    {
      "cell_type": "code",
      "execution_count": 6,
      "metadata": {
        "id": "oU_eocI-eNYX"
      },
      "outputs": [
        {
          "name": "stdout",
          "output_type": "stream",
          "text": [
            "Name\n",
            "Edgar\n",
            "Esti\n"
          ]
        }
      ],
      "source": [
        "#Muestra el contenido de la columna aqui\n",
        "for row in reader:\n",
        "    print(row[0])\n"
      ]
    },
    {
      "cell_type": "markdown",
      "metadata": {
        "id": "tKTXFzaPzKJq"
      },
      "source": [
        "###Lectura y exploracion de archivo CSV con Pandas"
      ]
    },
    {
      "cell_type": "markdown",
      "metadata": {
        "id": "hBLx76OvzbzE"
      },
      "source": [
        "\n",
        "[Pandas](https://pandas.pydata.org) es un módulo externo en Python que provee de herramientas para el análisis y manipulación de datos comúnmente utilizado en *Data Science* debido a que es rápido, poderoso, flexible y fácil de utilizar."
      ]
    },
    {
      "cell_type": "markdown",
      "metadata": {
        "id": "7kECivjM2aAM"
      },
      "source": [
        "Una de las principales ventajas de utilizar un DataFrame en lugar de una estructura de datos convencional de Python es el acceso a funcionalidades de uso frecuente. Una de estas es la posibilidad de realizar operaciones de agregación (metodos) sobre las columnas.\n",
        "\n",
        "Existen 13 funciones de agregación (metodos) incluidas en Pandas:\n",
        "1. `mean()`: Calcula el promedio.\n",
        "1. `sum()`: Calcula la suma.\n",
        "1. `size()`: Calcula el tamaño.\n",
        "1. `count()`: Calcula el tamaño ignorando valores vacíos.\n",
        "1. `std()`: Calcula la desviación estándar.\n",
        "1. `var()`: Calcula la varianza.\n",
        "1. `sem()`: Calcula el error estándar de los valores promedio.\n",
        "1. `describe()`: Genera estadísticas descriptivas (promedio, desviación estándar, mínimo, máximo, quartiles).\n",
        "1. `first():` Devuelve el primer elemento.\n",
        "1. `last()`: Devuelve el último elemento.\n",
        "1. `nth()` : Devuel el n-ésimo elemento para un valor de `n` entero, o un subconjunto si `n` es una lista.\n",
        "1. `min()`: Calcula el mínimo.\n",
        "1. `max()`: Calcula el máximo."
      ]
    },
    {
      "cell_type": "markdown",
      "metadata": {
        "id": "vpkKmPR2eoaX"
      },
      "source": [
        "**MiniChallenge**\n",
        "1. Entra a Kaggle, descarga el archivo [water_potability.csv](https://www.kaggle.com/adityakadiwal/water-potability?select=water_potability.csv) y subelo a tu carpeta de Files\n",
        "2. Importar la base de datos con pandas al notebook\n",
        "3. Mostrar la columna 'Turbidity'\n",
        "4. Sacar promedio de la columna 'Ph'"
      ]
    },
    {
      "cell_type": "code",
      "execution_count": 1,
      "metadata": {
        "id": "pOuoVhVyzVhS"
      },
      "outputs": [],
      "source": [
        "import pandas as pd"
      ]
    },
    {
      "cell_type": "code",
      "execution_count": 23,
      "metadata": {
        "id": "3VFVVl1rzf4n"
      },
      "outputs": [
        {
          "data": {
            "text/html": [
              "<div>\n",
              "<style scoped>\n",
              "    .dataframe tbody tr th:only-of-type {\n",
              "        vertical-align: middle;\n",
              "    }\n",
              "\n",
              "    .dataframe tbody tr th {\n",
              "        vertical-align: top;\n",
              "    }\n",
              "\n",
              "    .dataframe thead th {\n",
              "        text-align: right;\n",
              "    }\n",
              "</style>\n",
              "<table border=\"1\" class=\"dataframe\">\n",
              "  <thead>\n",
              "    <tr style=\"text-align: right;\">\n",
              "      <th></th>\n",
              "      <th>ph</th>\n",
              "      <th>Hardness</th>\n",
              "      <th>Solids</th>\n",
              "      <th>Chloramines</th>\n",
              "      <th>Sulfate</th>\n",
              "      <th>Conductivity</th>\n",
              "      <th>Organic_carbon</th>\n",
              "      <th>Trihalomethanes</th>\n",
              "      <th>Turbidity</th>\n",
              "      <th>Potability</th>\n",
              "    </tr>\n",
              "  </thead>\n",
              "  <tbody>\n",
              "    <tr>\n",
              "      <th>0</th>\n",
              "      <td>NaN</td>\n",
              "      <td>204.890455</td>\n",
              "      <td>20791.318981</td>\n",
              "      <td>7.300212</td>\n",
              "      <td>368.516441</td>\n",
              "      <td>564.308654</td>\n",
              "      <td>10.379783</td>\n",
              "      <td>86.990970</td>\n",
              "      <td>2.963135</td>\n",
              "      <td>0</td>\n",
              "    </tr>\n",
              "    <tr>\n",
              "      <th>1</th>\n",
              "      <td>3.716080</td>\n",
              "      <td>129.422921</td>\n",
              "      <td>18630.057858</td>\n",
              "      <td>6.635246</td>\n",
              "      <td>NaN</td>\n",
              "      <td>592.885359</td>\n",
              "      <td>15.180013</td>\n",
              "      <td>56.329076</td>\n",
              "      <td>4.500656</td>\n",
              "      <td>0</td>\n",
              "    </tr>\n",
              "    <tr>\n",
              "      <th>2</th>\n",
              "      <td>8.099124</td>\n",
              "      <td>224.236259</td>\n",
              "      <td>19909.541732</td>\n",
              "      <td>9.275884</td>\n",
              "      <td>NaN</td>\n",
              "      <td>418.606213</td>\n",
              "      <td>16.868637</td>\n",
              "      <td>66.420093</td>\n",
              "      <td>3.055934</td>\n",
              "      <td>0</td>\n",
              "    </tr>\n",
              "    <tr>\n",
              "      <th>3</th>\n",
              "      <td>8.316766</td>\n",
              "      <td>214.373394</td>\n",
              "      <td>22018.417441</td>\n",
              "      <td>8.059332</td>\n",
              "      <td>356.886136</td>\n",
              "      <td>363.266516</td>\n",
              "      <td>18.436524</td>\n",
              "      <td>100.341674</td>\n",
              "      <td>4.628771</td>\n",
              "      <td>0</td>\n",
              "    </tr>\n",
              "    <tr>\n",
              "      <th>4</th>\n",
              "      <td>9.092223</td>\n",
              "      <td>181.101509</td>\n",
              "      <td>17978.986339</td>\n",
              "      <td>6.546600</td>\n",
              "      <td>310.135738</td>\n",
              "      <td>398.410813</td>\n",
              "      <td>11.558279</td>\n",
              "      <td>31.997993</td>\n",
              "      <td>4.075075</td>\n",
              "      <td>0</td>\n",
              "    </tr>\n",
              "    <tr>\n",
              "      <th>...</th>\n",
              "      <td>...</td>\n",
              "      <td>...</td>\n",
              "      <td>...</td>\n",
              "      <td>...</td>\n",
              "      <td>...</td>\n",
              "      <td>...</td>\n",
              "      <td>...</td>\n",
              "      <td>...</td>\n",
              "      <td>...</td>\n",
              "      <td>...</td>\n",
              "    </tr>\n",
              "    <tr>\n",
              "      <th>3271</th>\n",
              "      <td>4.668102</td>\n",
              "      <td>193.681735</td>\n",
              "      <td>47580.991603</td>\n",
              "      <td>7.166639</td>\n",
              "      <td>359.948574</td>\n",
              "      <td>526.424171</td>\n",
              "      <td>13.894419</td>\n",
              "      <td>66.687695</td>\n",
              "      <td>4.435821</td>\n",
              "      <td>1</td>\n",
              "    </tr>\n",
              "    <tr>\n",
              "      <th>3272</th>\n",
              "      <td>7.808856</td>\n",
              "      <td>193.553212</td>\n",
              "      <td>17329.802160</td>\n",
              "      <td>8.061362</td>\n",
              "      <td>NaN</td>\n",
              "      <td>392.449580</td>\n",
              "      <td>19.903225</td>\n",
              "      <td>NaN</td>\n",
              "      <td>2.798243</td>\n",
              "      <td>1</td>\n",
              "    </tr>\n",
              "    <tr>\n",
              "      <th>3273</th>\n",
              "      <td>9.419510</td>\n",
              "      <td>175.762646</td>\n",
              "      <td>33155.578218</td>\n",
              "      <td>7.350233</td>\n",
              "      <td>NaN</td>\n",
              "      <td>432.044783</td>\n",
              "      <td>11.039070</td>\n",
              "      <td>69.845400</td>\n",
              "      <td>3.298875</td>\n",
              "      <td>1</td>\n",
              "    </tr>\n",
              "    <tr>\n",
              "      <th>3274</th>\n",
              "      <td>5.126763</td>\n",
              "      <td>230.603758</td>\n",
              "      <td>11983.869376</td>\n",
              "      <td>6.303357</td>\n",
              "      <td>NaN</td>\n",
              "      <td>402.883113</td>\n",
              "      <td>11.168946</td>\n",
              "      <td>77.488213</td>\n",
              "      <td>4.708658</td>\n",
              "      <td>1</td>\n",
              "    </tr>\n",
              "    <tr>\n",
              "      <th>3275</th>\n",
              "      <td>7.874671</td>\n",
              "      <td>195.102299</td>\n",
              "      <td>17404.177061</td>\n",
              "      <td>7.509306</td>\n",
              "      <td>NaN</td>\n",
              "      <td>327.459760</td>\n",
              "      <td>16.140368</td>\n",
              "      <td>78.698446</td>\n",
              "      <td>2.309149</td>\n",
              "      <td>1</td>\n",
              "    </tr>\n",
              "  </tbody>\n",
              "</table>\n",
              "<p>3276 rows × 10 columns</p>\n",
              "</div>"
            ],
            "text/plain": [
              "            ph    Hardness        Solids  Chloramines     Sulfate  \\\n",
              "0          NaN  204.890455  20791.318981     7.300212  368.516441   \n",
              "1     3.716080  129.422921  18630.057858     6.635246         NaN   \n",
              "2     8.099124  224.236259  19909.541732     9.275884         NaN   \n",
              "3     8.316766  214.373394  22018.417441     8.059332  356.886136   \n",
              "4     9.092223  181.101509  17978.986339     6.546600  310.135738   \n",
              "...        ...         ...           ...          ...         ...   \n",
              "3271  4.668102  193.681735  47580.991603     7.166639  359.948574   \n",
              "3272  7.808856  193.553212  17329.802160     8.061362         NaN   \n",
              "3273  9.419510  175.762646  33155.578218     7.350233         NaN   \n",
              "3274  5.126763  230.603758  11983.869376     6.303357         NaN   \n",
              "3275  7.874671  195.102299  17404.177061     7.509306         NaN   \n",
              "\n",
              "      Conductivity  Organic_carbon  Trihalomethanes  Turbidity  Potability  \n",
              "0       564.308654       10.379783        86.990970   2.963135           0  \n",
              "1       592.885359       15.180013        56.329076   4.500656           0  \n",
              "2       418.606213       16.868637        66.420093   3.055934           0  \n",
              "3       363.266516       18.436524       100.341674   4.628771           0  \n",
              "4       398.410813       11.558279        31.997993   4.075075           0  \n",
              "...            ...             ...              ...        ...         ...  \n",
              "3271    526.424171       13.894419        66.687695   4.435821           1  \n",
              "3272    392.449580       19.903225              NaN   2.798243           1  \n",
              "3273    432.044783       11.039070        69.845400   3.298875           1  \n",
              "3274    402.883113       11.168946        77.488213   4.708658           1  \n",
              "3275    327.459760       16.140368        78.698446   2.309149           1  \n",
              "\n",
              "[3276 rows x 10 columns]"
            ]
          },
          "execution_count": 23,
          "metadata": {},
          "output_type": "execute_result"
        }
      ],
      "source": [
        "water=pd.read_csv(\"water_potability.csv\")\n",
        "water"
      ]
    },
    {
      "cell_type": "code",
      "execution_count": 24,
      "metadata": {},
      "outputs": [
        {
          "data": {
            "text/plain": [
              "0       2.963135\n",
              "1       4.500656\n",
              "2       3.055934\n",
              "3       4.628771\n",
              "4       4.075075\n",
              "          ...   \n",
              "3271    4.435821\n",
              "3272    2.798243\n",
              "3273    3.298875\n",
              "3274    4.708658\n",
              "3275    2.309149\n",
              "Name: Turbidity, Length: 3276, dtype: float64"
            ]
          },
          "execution_count": 24,
          "metadata": {},
          "output_type": "execute_result"
        }
      ],
      "source": [
        "water[\"Turbidity\"]"
      ]
    },
    {
      "cell_type": "code",
      "execution_count": 28,
      "metadata": {
        "id": "yIScX4zMe0DU"
      },
      "outputs": [
        {
          "data": {
            "text/plain": [
              "7.080794504276835"
            ]
          },
          "execution_count": 28,
          "metadata": {},
          "output_type": "execute_result"
        }
      ],
      "source": [
        "water[\"ph\"].mean()"
      ]
    },
    {
      "cell_type": "code",
      "execution_count": 30,
      "metadata": {},
      "outputs": [
        {
          "data": {
            "text/plain": [
              "7.080794504276835"
            ]
          },
          "execution_count": 30,
          "metadata": {},
          "output_type": "execute_result"
        }
      ],
      "source": [
        "mean=water[\"ph\"].sum()/water[\"ph\"].count()\n",
        "mean"
      ]
    },
    {
      "cell_type": "markdown",
      "metadata": {
        "id": "AgK938AnzzNT"
      },
      "source": [
        "###Accediendo a Páginas Web "
      ]
    },
    {
      "cell_type": "markdown",
      "metadata": {
        "id": "mp9uNQ6Te7sF"
      },
      "source": [
        "**MiniChallenge**\n",
        "1. Accedemos a Project Gutemberg y elegir el libro de tu preferencia en formato txt https://www.gutenberg.org/\n",
        "2. leer el libro elegido\n",
        "3. Mostrar los primeros 5000 caracteres"
      ]
    },
    {
      "cell_type": "code",
      "execution_count": 31,
      "metadata": {
        "id": "CMDCXjpI0F6e"
      },
      "outputs": [],
      "source": [
        "import urllib.request"
      ]
    },
    {
      "cell_type": "code",
      "execution_count": 36,
      "metadata": {
        "id": "kcG7p5km1IeL"
      },
      "outputs": [
        {
          "data": {
            "text/plain": [
              "<http.client.HTTPResponse at 0x1c740916230>"
            ]
          },
          "execution_count": 36,
          "metadata": {},
          "output_type": "execute_result"
        }
      ],
      "source": [
        "libro=\"https://www.gutenberg.org/files/98/98-0.txt\"   # A tale of Two cities by Charles Dickens\n",
        "ans=urllib.request.urlopen(libro)\n",
        "ans"
      ]
    },
    {
      "cell_type": "code",
      "execution_count": 37,
      "metadata": {},
      "outputs": [],
      "source": [
        "text=ans.read().decode()"
      ]
    },
    {
      "cell_type": "code",
      "execution_count": 38,
      "metadata": {},
      "outputs": [
        {
          "data": {
            "text/plain": [
              "'\\ufeffThe Project Gutenberg eBook of A Tale of Two Cities, by Charles Dickens\\r\\n\\r\\nThis eBook is for the use of anyone anywhere in the United States and\\r\\nmost other parts of the world at no cost and with almost no restrictions\\r\\nwhatsoever. You may copy it, give it away or re-use it under the terms\\r\\nof the Project Gutenberg License included with this eBook or online at\\r\\nwww.gutenberg.org. If you are not located in the United States, you\\r\\nwill have to check the laws of the country where you are located before\\r\\nusing this eBook.\\r\\n\\r\\nTitle: A Tale of Two Cities\\r\\n       A Story of the French Revolution\\r\\n\\r\\nAuthor: Charles Dickens\\r\\n\\r\\nRelease Date: January, 1994 [eBook #98]\\r\\n[Most recently updated: December 20, 2020]\\r\\n\\r\\nLanguage: English\\r\\n\\r\\nCharacter set encoding: UTF-8\\r\\n\\r\\nProduced by: Judith Boss and David Widger\\r\\n\\r\\n*** START OF THE PROJECT GUTENBERG EBOOK A TALE OF TWO CITIES ***\\r\\n\\r\\n\\r\\n\\r\\n\\r\\nA TALE OF TWO CITIES\\r\\n\\r\\nA STORY OF THE FRENCH REVOLUTION\\r\\n\\r\\nBy Charles Dickens\\r\\n\\r\\n\\r\\nCONTENTS\\r\\n\\r\\n\\r\\n     Book the First--Recalled to Life\\r\\n\\r\\n     CHAPTER I      The Period\\r\\n     CHAPTER II     The Mail\\r\\n     CHAPTER III    The Night Shadows\\r\\n     CHAPTER IV     The Preparation\\r\\n     CHAPTER V      The Wine-shop\\r\\n     CHAPTER VI     The Shoemaker\\r\\n\\r\\n\\r\\n     Book the Second--the Golden Thread\\r\\n\\r\\n     CHAPTER I      Five Years Later\\r\\n     CHAPTER II     A Sight\\r\\n     CHAPTER III    A Disappointment\\r\\n     CHAPTER IV     Congratulatory\\r\\n     CHAPTER V      The Jackal\\r\\n     CHAPTER VI     Hundreds of People\\r\\n     CHAPTER VII    Monseigneur in Town\\r\\n     CHAPTER VIII   Monseigneur in the Country\\r\\n     CHAPTER IX     The Gorgon’s Head\\r\\n     CHAPTER X      Two Promises\\r\\n     CHAPTER XI     A Companion Picture\\r\\n     CHAPTER XII    The Fellow of Delicacy\\r\\n     CHAPTER XIII   The Fellow of no Delicacy\\r\\n     CHAPTER XIV    The Honest Tradesman\\r\\n     CHAPTER XV     Knitting\\r\\n     CHAPTER XVI    Still Knitting\\r\\n     CHAPTER XVII   One Night\\r\\n     CHAPTER XVIII  Nine Days\\r\\n     CHAPTER XIX    An Opinion\\r\\n     CHAPTER XX     A Plea\\r\\n     CHAPTER XXI    Echoing Footsteps\\r\\n     CHAPTER XXII   The Sea Still Rises\\r\\n     CHAPTER XXIII  Fire Rises\\r\\n     CHAPTER XXIV   Drawn to the Loadstone Rock\\r\\n\\r\\n\\r\\n     Book the Third--the Track of a Storm\\r\\n\\r\\n     CHAPTER I      In Secret\\r\\n     CHAPTER II     The Grindstone\\r\\n     CHAPTER III    The Shadow\\r\\n     CHAPTER IV     Calm in Storm\\r\\n     CHAPTER V      The Wood-sawyer\\r\\n     CHAPTER VI     Triumph\\r\\n     CHAPTER VII    A Knock at the Door\\r\\n     CHAPTER VIII   A Hand at Cards\\r\\n     CHAPTER IX     The Game Made\\r\\n     CHAPTER X      The Substance of the Shadow\\r\\n     CHAPTER XI     Dusk\\r\\n     CHAPTER XII    Darkness\\r\\n     CHAPTER XIII   Fifty-two\\r\\n     CHAPTER XIV    The Knitting Done\\r\\n     CHAPTER XV     The Footsteps Die Out For Ever\\r\\n\\r\\n\\r\\n\\r\\n\\r\\n\\r\\nBook the First--Recalled to Life\\r\\n\\r\\n\\r\\n\\r\\n\\r\\nCHAPTER I.\\r\\nThe Period\\r\\n\\r\\n\\r\\nIt was the best of times, it was the worst of times, it was the age of\\r\\nwisdom, it was the age of foolishness, it was the epoch of belief, it\\r\\nwas the epoch of incredulity, it was the season of Light, it was the\\r\\nseason of Darkness, it was the spring of hope, it was the winter of\\r\\ndespair, we had everything before us, we had nothing before us, we were\\r\\nall going direct to Heaven, we were all going direct the other way--in\\r\\nshort, the period was so far like the present period, that some of its\\r\\nnoisiest authorities insisted on its being received, for good or for\\r\\nevil, in the superlative degree of comparison only.\\r\\n\\r\\nThere were a king with a large jaw and a queen with a plain face, on the\\r\\nthrone of England; there were a king with a large jaw and a queen with\\r\\na fair face, on the throne of France. In both countries it was clearer\\r\\nthan crystal to the lords of the State preserves of loaves and fishes,\\r\\nthat things in general were settled for ever.\\r\\n\\r\\nIt was the year of Our Lord one thousand seven hundred and seventy-five.\\r\\nSpiritual revelations were conceded to England at that favoured period,\\r\\nas at this. Mrs. Southcott had recently attained her five-and-twentieth\\r\\nblessed birthday, of whom a prophetic private in the Life Guards had\\r\\nheralded the sublime appearance by announcing that arrangements were\\r\\nmade for the swallowing up of London and Westminster. Even the Cock-lane\\r\\nghost had been laid only a round dozen of years, after rapping out its\\r\\nmessages, as the spirits of this very year last past (supernaturally\\r\\ndeficient in originality) rapped out theirs. Mere messages in the\\r\\nearthly order of events had lately come to the English Crown and People,\\r\\nfrom a congress of British subjects in America: which, strange\\r\\nto relate, have proved more important to the human race than any\\r\\ncommunications yet received through any of the chickens of the Cock-lane\\r\\nbrood.\\r\\n\\r\\nFrance, less favoured on the whole as to matters spiritual than her\\r\\nsister of the shield and trident, rolled with exceeding smoothness down\\r\\nhill, making paper money and spending it. Under the guidance of her\\r\\nChristian pastors, she entertained herself, be'"
            ]
          },
          "execution_count": 38,
          "metadata": {},
          "output_type": "execute_result"
        }
      ],
      "source": [
        "text[0:5000]"
      ]
    },
    {
      "cell_type": "markdown",
      "metadata": {
        "id": "I_FHDNj-0Hds"
      },
      "source": [
        "###Manipulacion de JSON con Python"
      ]
    },
    {
      "cell_type": "markdown",
      "metadata": {
        "id": "7hirxJVp0ras"
      },
      "source": [
        "JavaScript Object Notation (JSON) El formato mas utilizado para trasferir informacion (intercambio de datos a través de la web)"
      ]
    },
    {
      "cell_type": "markdown",
      "metadata": {
        "id": "N9v6TwUJbW6S"
      },
      "source": [
        "**MiniChallenge**\n",
        " \n",
        "1. Busquemos acceder a las 'description' del json"
      ]
    },
    {
      "cell_type": "code",
      "execution_count": 4,
      "metadata": {
        "id": "Fto6srjpbWlX"
      },
      "outputs": [],
      "source": [
        "import json"
      ]
    },
    {
      "cell_type": "code",
      "execution_count": 3,
      "metadata": {
        "id": "O9Jh6m1C0cPV"
      },
      "outputs": [],
      "source": [
        "otro_JSON='''\n",
        "{\n",
        "    \"marcadores\": [\n",
        "      {\n",
        "        \"latitude\": 40.416875,\n",
        "        \"longitude\": -3.703308,\n",
        "        \"city\": \"Madrid\",\n",
        "        \"description\": \"Puerta del Sol\"\n",
        "      },\n",
        "      {\n",
        "        \"latitude\": 40.417438,\n",
        "        \"longitude\": -3.693363,\n",
        "        \"city\": \"Madrid\",\n",
        "        \"description\": \"Paseo del Prado\"\n",
        "      },\n",
        "      {\n",
        "        \"latitude\": 40.407015,\n",
        "        \"longitude\": -3.691163,\n",
        "        \"city\": \"Madrid\",\n",
        "        \"description\": \"Estación de Atocha\"\n",
        "      }\n",
        "    ]\n",
        "}\n",
        "\n",
        "'''"
      ]
    },
    {
      "cell_type": "code",
      "execution_count": 38,
      "metadata": {},
      "outputs": [
        {
          "name": "stdout",
          "output_type": "stream",
          "text": [
            "Description: Puerta del Sol\n",
            "Description: Paseo del Prado\n",
            "Description: Estación de Atocha\n"
          ]
        }
      ],
      "source": [
        "#Codea aqui para acceder a las 3 description de otro_JSON con ayuda de un for\n",
        "otro=json.loads(otro_JSON)\n",
        "\n",
        "for o in otro[\"marcadores\"]:\n",
        "    print(\"Description:\",o[\"description\"])\n",
        "\n"
      ]
    },
    {
      "cell_type": "markdown",
      "metadata": {
        "id": "vsiz_YdVAMc5"
      },
      "source": [
        "##API"
      ]
    },
    {
      "cell_type": "markdown",
      "metadata": {
        "id": "H75n3VaOBDXR"
      },
      "source": [
        "Minichallenge\n",
        "\n",
        "Haz una consulta a la siguiente API y obten todos los elementos de 'sunrise' del JSON que da como resultado\n",
        "\n",
        "* [Sunrise Sunset](https://sunrise-sunset.org/api)"
      ]
    },
    {
      "cell_type": "code",
      "execution_count": 46,
      "metadata": {
        "id": "bNqAR_btAOQG"
      },
      "outputs": [],
      "source": [
        "import requests    "
      ]
    },
    {
      "cell_type": "code",
      "execution_count": 49,
      "metadata": {
        "id": "5Sf65z0_APCG"
      },
      "outputs": [
        {
          "data": {
            "text/plain": [
              "<Response [200]>"
            ]
          },
          "execution_count": 49,
          "metadata": {},
          "output_type": "execute_result"
        }
      ],
      "source": [
        "sunrise=\"https://api.sunrise-sunset.org/json?lat=36.7201600&lng=-4.4203400\"\n",
        "ans=requests.get(sunrise)\n",
        "ans"
      ]
    },
    {
      "cell_type": "code",
      "execution_count": 52,
      "metadata": {},
      "outputs": [
        {
          "data": {
            "text/plain": [
              "{'results': {'sunrise': '4:57:55 AM',\n",
              "  'sunset': '7:34:07 PM',\n",
              "  'solar_noon': '12:16:01 PM',\n",
              "  'day_length': '14:36:12',\n",
              "  'civil_twilight_begin': '4:29:10 AM',\n",
              "  'civil_twilight_end': '8:02:52 PM',\n",
              "  'nautical_twilight_begin': '3:51:39 AM',\n",
              "  'nautical_twilight_end': '8:40:23 PM',\n",
              "  'astronomical_twilight_begin': '3:09:57 AM',\n",
              "  'astronomical_twilight_end': '9:22:05 PM'},\n",
              " 'status': 'OK'}"
            ]
          },
          "execution_count": 52,
          "metadata": {},
          "output_type": "execute_result"
        }
      ],
      "source": [
        "data=ans.json()\n",
        "data"
      ]
    },
    {
      "cell_type": "code",
      "execution_count": 57,
      "metadata": {},
      "outputs": [
        {
          "data": {
            "text/html": [
              "<div>\n",
              "<style scoped>\n",
              "    .dataframe tbody tr th:only-of-type {\n",
              "        vertical-align: middle;\n",
              "    }\n",
              "\n",
              "    .dataframe tbody tr th {\n",
              "        vertical-align: top;\n",
              "    }\n",
              "\n",
              "    .dataframe thead th {\n",
              "        text-align: right;\n",
              "    }\n",
              "</style>\n",
              "<table border=\"1\" class=\"dataframe\">\n",
              "  <thead>\n",
              "    <tr style=\"text-align: right;\">\n",
              "      <th></th>\n",
              "      <th>results</th>\n",
              "      <th>status</th>\n",
              "    </tr>\n",
              "  </thead>\n",
              "  <tbody>\n",
              "    <tr>\n",
              "      <th>astronomical_twilight_begin</th>\n",
              "      <td>3:09:57 AM</td>\n",
              "      <td>OK</td>\n",
              "    </tr>\n",
              "    <tr>\n",
              "      <th>astronomical_twilight_end</th>\n",
              "      <td>9:22:05 PM</td>\n",
              "      <td>OK</td>\n",
              "    </tr>\n",
              "    <tr>\n",
              "      <th>civil_twilight_begin</th>\n",
              "      <td>4:29:10 AM</td>\n",
              "      <td>OK</td>\n",
              "    </tr>\n",
              "    <tr>\n",
              "      <th>civil_twilight_end</th>\n",
              "      <td>8:02:52 PM</td>\n",
              "      <td>OK</td>\n",
              "    </tr>\n",
              "    <tr>\n",
              "      <th>day_length</th>\n",
              "      <td>14:36:12</td>\n",
              "      <td>OK</td>\n",
              "    </tr>\n",
              "    <tr>\n",
              "      <th>nautical_twilight_begin</th>\n",
              "      <td>3:51:39 AM</td>\n",
              "      <td>OK</td>\n",
              "    </tr>\n",
              "    <tr>\n",
              "      <th>nautical_twilight_end</th>\n",
              "      <td>8:40:23 PM</td>\n",
              "      <td>OK</td>\n",
              "    </tr>\n",
              "    <tr>\n",
              "      <th>solar_noon</th>\n",
              "      <td>12:16:01 PM</td>\n",
              "      <td>OK</td>\n",
              "    </tr>\n",
              "    <tr>\n",
              "      <th>sunrise</th>\n",
              "      <td>4:57:55 AM</td>\n",
              "      <td>OK</td>\n",
              "    </tr>\n",
              "    <tr>\n",
              "      <th>sunset</th>\n",
              "      <td>7:34:07 PM</td>\n",
              "      <td>OK</td>\n",
              "    </tr>\n",
              "  </tbody>\n",
              "</table>\n",
              "</div>"
            ],
            "text/plain": [
              "                                 results status\n",
              "astronomical_twilight_begin   3:09:57 AM     OK\n",
              "astronomical_twilight_end     9:22:05 PM     OK\n",
              "civil_twilight_begin          4:29:10 AM     OK\n",
              "civil_twilight_end            8:02:52 PM     OK\n",
              "day_length                      14:36:12     OK\n",
              "nautical_twilight_begin       3:51:39 AM     OK\n",
              "nautical_twilight_end         8:40:23 PM     OK\n",
              "solar_noon                   12:16:01 PM     OK\n",
              "sunrise                       4:57:55 AM     OK\n",
              "sunset                        7:34:07 PM     OK"
            ]
          },
          "execution_count": 57,
          "metadata": {},
          "output_type": "execute_result"
        }
      ],
      "source": [
        "show_data=pd.DataFrame(data)\n",
        "show_data"
      ]
    },
    {
      "cell_type": "code",
      "execution_count": 58,
      "metadata": {},
      "outputs": [
        {
          "data": {
            "text/plain": [
              "astronomical_twilight_begin     3:09:57 AM\n",
              "astronomical_twilight_end       9:22:05 PM\n",
              "civil_twilight_begin            4:29:10 AM\n",
              "civil_twilight_end              8:02:52 PM\n",
              "day_length                        14:36:12\n",
              "nautical_twilight_begin         3:51:39 AM\n",
              "nautical_twilight_end           8:40:23 PM\n",
              "solar_noon                     12:16:01 PM\n",
              "sunrise                         4:57:55 AM\n",
              "sunset                          7:34:07 PM\n",
              "Name: results, dtype: object"
            ]
          },
          "execution_count": 58,
          "metadata": {},
          "output_type": "execute_result"
        }
      ],
      "source": [
        "show_data[\"results\"]"
      ]
    },
    {
      "cell_type": "code",
      "execution_count": 60,
      "metadata": {},
      "outputs": [
        {
          "data": {
            "text/plain": [
              "results    3:09:57 AM\n",
              "status             OK\n",
              "Name: astronomical_twilight_begin, dtype: object"
            ]
          },
          "execution_count": 60,
          "metadata": {},
          "output_type": "execute_result"
        }
      ],
      "source": [
        "show_data.iloc[0]"
      ]
    }
  ],
  "metadata": {
    "colab": {
      "name": "Challenge.ipynb",
      "provenance": []
    },
    "interpreter": {
      "hash": "6483d42e64b705807ee7ab627fc5c3df04fe935c6b01693ce46ae2d688d3de35"
    },
    "kernelspec": {
      "display_name": "Python 3.10.4 64-bit",
      "language": "python",
      "name": "python3"
    },
    "language_info": {
      "codemirror_mode": {
        "name": "ipython",
        "version": 3
      },
      "file_extension": ".py",
      "mimetype": "text/x-python",
      "name": "python",
      "nbconvert_exporter": "python",
      "pygments_lexer": "ipython3",
      "version": "3.10.4"
    }
  },
  "nbformat": 4,
  "nbformat_minor": 0
}
