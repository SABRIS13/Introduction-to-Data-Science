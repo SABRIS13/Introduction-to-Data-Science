{
  "nbformat": 4,
  "nbformat_minor": 0,
  "metadata": {
    "colab": {
      "provenance": [],
      "authorship_tag": "ABX9TyM/sz1N4qmTVcF2oEt+zFD7",
      "include_colab_link": true
    },
    "kernelspec": {
      "name": "python3",
      "display_name": "Python 3"
    },
    "language_info": {
      "name": "python"
    }
  },
  "cells": [
    {
      "cell_type": "markdown",
      "metadata": {
        "id": "view-in-github",
        "colab_type": "text"
      },
      "source": [
        "<a href=\"https://colab.research.google.com/github/SABRIS13/Introduction-to-Data-Science/blob/main/Tweets_python.ipynb\" target=\"_parent\"><img src=\"https://colab.research.google.com/assets/colab-badge.svg\" alt=\"Open In Colab\"/></a>"
      ]
    },
    {
      "cell_type": "markdown",
      "source": [
        "# Identificando Tweets de ALura\n",
        "Ejercico opcional: [Tweepy](https://www.aluracursos.com/blog/buscando-tweets-con-python)"
      ],
      "metadata": {
        "id": "XYN-9QfNCImd"
      }
    },
    {
      "cell_type": "markdown",
      "source": [
        "Librería"
      ],
      "metadata": {
        "id": "uCzITK_TClrs"
      }
    },
    {
      "cell_type": "code",
      "execution_count": 1,
      "metadata": {
        "id": "9x3ZovInCBaV"
      },
      "outputs": [],
      "source": [
        "import tweepy"
      ]
    },
    {
      "cell_type": "code",
      "source": [
        "clave_usuario = 'xxxxxxx'\n",
        "secreto_usuario = 'xxxxxxx'\n",
        "token_acceso = 'xxxxxxx'\n",
        "token_acceso_secreto = 'xxxxxxx'"
      ],
      "metadata": {
        "id": "KO-ZjVQtCtQU"
      },
      "execution_count": 2,
      "outputs": []
    },
    {
      "cell_type": "markdown",
      "source": [
        "La clase OAuthHandler es responsable de realizar la autenticación en Twitter."
      ],
      "metadata": {
        "id": "N6Kfb_5OC3s3"
      }
    },
    {
      "cell_type": "code",
      "source": [
        "autenticacion = tweepy.OAuthHandler(clave_usuario, secreto_usuario)\n",
        "autenticacion.set_access_token(token_acceso, token_acceso_secreto)"
      ],
      "metadata": {
        "id": "_T3K5ydYCzfC"
      },
      "execution_count": 4,
      "outputs": []
    },
    {
      "cell_type": "code",
      "source": [
        "twitter = tweepy.API(autenticacion)"
      ],
      "metadata": {
        "id": "NJ3OfO9GC5WG"
      },
      "execution_count": 8,
      "outputs": []
    },
    {
      "cell_type": "markdown",
      "source": [
        "Busqueda de tweets de Alura"
      ],
      "metadata": {
        "id": "cJrnMHf1DCRE"
      }
    },
    {
      "cell_type": "code",
      "source": [
        "resultados = twitter.search(q='AluraOnline')"
      ],
      "metadata": {
        "id": "D0vipXlwDrDM"
      },
      "execution_count": null,
      "outputs": []
    },
    {
      "cell_type": "code",
      "source": [
        "resultados = twitter.search(q='AluraOnline')\n",
        "for tweet in resultados:\n",
        "     print(f'Usuario: {tweet.user.screen_name} - Tweet: {tweet.text}')"
      ],
      "metadata": {
        "id": "LD4SRnmXDKZs"
      },
      "execution_count": null,
      "outputs": []
    },
    {
      "cell_type": "markdown",
      "source": [
        "Mas información:\n",
        "\n",
        "\n",
        "*   [Twython](https://twython.readthedocs.io/en/latest/)\n",
        "\n"
      ],
      "metadata": {
        "id": "zyEtz65XDr0R"
      }
    }
  ]
}