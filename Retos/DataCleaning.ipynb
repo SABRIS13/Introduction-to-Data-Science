{
  "cells": [
    {
      "cell_type": "markdown",
      "metadata": {
        "id": "RRaW_DI12TeY"
      },
      "source": [
        "# Ejercicios de Pandas\n",
        "\n",
        "Es momento de poner a pruebas tus nuevas habilidades. Utiliza el archivo <tt>population_by_county.csv</tt> para completar las tareas en negritas en la parte de abajo.\n",
        "\n",
        "[Data](https://github.com/gupta24789/Machine-Learning-Datasets/blob/master/population_by_county.csv)\n",
        "\n",
        "<div class=\"alert alert-info\" style=\"margin: 10px\"><strong>NOTA:</strong>TODOS LOS EJERCICIOS PUDEN REALIZARSE CON UNA SOLA LINEA DE CODIGO DE PANDAS.</div>\n"
      ]
    },
    {
      "cell_type": "markdown",
      "metadata": {
        "id": "YgjOv01B2Tee"
      },
      "source": [
        "#### 1. Importa pandas y lee el archivo <tt>population_by_county.csv</tt> en una dataframe llamado <tt>pop</tt>."
      ]
    },
    {
      "cell_type": "code",
      "execution_count": 251,
      "metadata": {
        "id": "j6VNtTSZ2Tef"
      },
      "outputs": [],
      "source": [
        "import pandas as pd"
      ]
    },
    {
      "cell_type": "code",
      "execution_count": 252,
      "metadata": {
        "id": "laEAh8Gz2Teg"
      },
      "outputs": [
        {
          "data": {
            "text/html": [
              "<div>\n",
              "<style scoped>\n",
              "    .dataframe tbody tr th:only-of-type {\n",
              "        vertical-align: middle;\n",
              "    }\n",
              "\n",
              "    .dataframe tbody tr th {\n",
              "        vertical-align: top;\n",
              "    }\n",
              "\n",
              "    .dataframe thead th {\n",
              "        text-align: right;\n",
              "    }\n",
              "</style>\n",
              "<table border=\"1\" class=\"dataframe\">\n",
              "  <thead>\n",
              "    <tr style=\"text-align: right;\">\n",
              "      <th></th>\n",
              "      <th>County</th>\n",
              "      <th>State</th>\n",
              "      <th>2010Census</th>\n",
              "      <th>2017PopEstimate</th>\n",
              "    </tr>\n",
              "  </thead>\n",
              "  <tbody>\n",
              "    <tr>\n",
              "      <th>0</th>\n",
              "      <td>Abbeville County</td>\n",
              "      <td>South Carolina</td>\n",
              "      <td>25417</td>\n",
              "      <td>24722</td>\n",
              "    </tr>\n",
              "    <tr>\n",
              "      <th>1</th>\n",
              "      <td>Acadia Parish</td>\n",
              "      <td>Louisiana</td>\n",
              "      <td>61773</td>\n",
              "      <td>62590</td>\n",
              "    </tr>\n",
              "    <tr>\n",
              "      <th>2</th>\n",
              "      <td>Accomack County</td>\n",
              "      <td>Virginia</td>\n",
              "      <td>33164</td>\n",
              "      <td>32545</td>\n",
              "    </tr>\n",
              "    <tr>\n",
              "      <th>3</th>\n",
              "      <td>Ada County</td>\n",
              "      <td>Idaho</td>\n",
              "      <td>392365</td>\n",
              "      <td>456849</td>\n",
              "    </tr>\n",
              "    <tr>\n",
              "      <th>4</th>\n",
              "      <td>Adair County</td>\n",
              "      <td>Iowa</td>\n",
              "      <td>7682</td>\n",
              "      <td>7054</td>\n",
              "    </tr>\n",
              "    <tr>\n",
              "      <th>...</th>\n",
              "      <td>...</td>\n",
              "      <td>...</td>\n",
              "      <td>...</td>\n",
              "      <td>...</td>\n",
              "    </tr>\n",
              "    <tr>\n",
              "      <th>3137</th>\n",
              "      <td>Yuma County</td>\n",
              "      <td>Arizona</td>\n",
              "      <td>195751</td>\n",
              "      <td>207534</td>\n",
              "    </tr>\n",
              "    <tr>\n",
              "      <th>3138</th>\n",
              "      <td>Yuma County</td>\n",
              "      <td>Colorado</td>\n",
              "      <td>10043</td>\n",
              "      <td>10075</td>\n",
              "    </tr>\n",
              "    <tr>\n",
              "      <th>3139</th>\n",
              "      <td>Zapata County</td>\n",
              "      <td>Texas</td>\n",
              "      <td>14018</td>\n",
              "      <td>14322</td>\n",
              "    </tr>\n",
              "    <tr>\n",
              "      <th>3140</th>\n",
              "      <td>Zavala County</td>\n",
              "      <td>Texas</td>\n",
              "      <td>11677</td>\n",
              "      <td>11948</td>\n",
              "    </tr>\n",
              "    <tr>\n",
              "      <th>3141</th>\n",
              "      <td>Ziebach County</td>\n",
              "      <td>South Dakota</td>\n",
              "      <td>2801</td>\n",
              "      <td>2756</td>\n",
              "    </tr>\n",
              "  </tbody>\n",
              "</table>\n",
              "<p>3142 rows × 4 columns</p>\n",
              "</div>"
            ],
            "text/plain": [
              "                County           State  2010Census  2017PopEstimate\n",
              "0     Abbeville County  South Carolina       25417            24722\n",
              "1        Acadia Parish       Louisiana       61773            62590\n",
              "2      Accomack County        Virginia       33164            32545\n",
              "3           Ada County           Idaho      392365           456849\n",
              "4         Adair County            Iowa        7682             7054\n",
              "...                ...             ...         ...              ...\n",
              "3137       Yuma County         Arizona      195751           207534\n",
              "3138       Yuma County        Colorado       10043            10075\n",
              "3139     Zapata County           Texas       14018            14322\n",
              "3140     Zavala County           Texas       11677            11948\n",
              "3141    Ziebach County    South Dakota        2801             2756\n",
              "\n",
              "[3142 rows x 4 columns]"
            ]
          },
          "execution_count": 252,
          "metadata": {},
          "output_type": "execute_result"
        }
      ],
      "source": [
        "population = pd.read_csv(\"population_by_county.csv\")\n",
        "population"
      ]
    },
    {
      "cell_type": "markdown",
      "metadata": {
        "id": "EqLaYFjM2Teh"
      },
      "source": [
        "#### 2. Muestra el head del dataframe."
      ]
    },
    {
      "cell_type": "code",
      "execution_count": 253,
      "metadata": {
        "colab": {
          "base_uri": "https://localhost:8080/",
          "height": 206
        },
        "id": "MY0FfoHq2Teh",
        "outputId": "8e96c0b1-f24e-4b92-ea70-6bd78cf0ef7a"
      },
      "outputs": [
        {
          "data": {
            "text/html": [
              "<div>\n",
              "<style scoped>\n",
              "    .dataframe tbody tr th:only-of-type {\n",
              "        vertical-align: middle;\n",
              "    }\n",
              "\n",
              "    .dataframe tbody tr th {\n",
              "        vertical-align: top;\n",
              "    }\n",
              "\n",
              "    .dataframe thead th {\n",
              "        text-align: right;\n",
              "    }\n",
              "</style>\n",
              "<table border=\"1\" class=\"dataframe\">\n",
              "  <thead>\n",
              "    <tr style=\"text-align: right;\">\n",
              "      <th></th>\n",
              "      <th>County</th>\n",
              "      <th>State</th>\n",
              "      <th>2010Census</th>\n",
              "      <th>2017PopEstimate</th>\n",
              "    </tr>\n",
              "  </thead>\n",
              "  <tbody>\n",
              "    <tr>\n",
              "      <th>0</th>\n",
              "      <td>Abbeville County</td>\n",
              "      <td>South Carolina</td>\n",
              "      <td>25417</td>\n",
              "      <td>24722</td>\n",
              "    </tr>\n",
              "    <tr>\n",
              "      <th>1</th>\n",
              "      <td>Acadia Parish</td>\n",
              "      <td>Louisiana</td>\n",
              "      <td>61773</td>\n",
              "      <td>62590</td>\n",
              "    </tr>\n",
              "    <tr>\n",
              "      <th>2</th>\n",
              "      <td>Accomack County</td>\n",
              "      <td>Virginia</td>\n",
              "      <td>33164</td>\n",
              "      <td>32545</td>\n",
              "    </tr>\n",
              "    <tr>\n",
              "      <th>3</th>\n",
              "      <td>Ada County</td>\n",
              "      <td>Idaho</td>\n",
              "      <td>392365</td>\n",
              "      <td>456849</td>\n",
              "    </tr>\n",
              "    <tr>\n",
              "      <th>4</th>\n",
              "      <td>Adair County</td>\n",
              "      <td>Iowa</td>\n",
              "      <td>7682</td>\n",
              "      <td>7054</td>\n",
              "    </tr>\n",
              "  </tbody>\n",
              "</table>\n",
              "</div>"
            ],
            "text/plain": [
              "             County           State  2010Census  2017PopEstimate\n",
              "0  Abbeville County  South Carolina       25417            24722\n",
              "1     Acadia Parish       Louisiana       61773            62590\n",
              "2   Accomack County        Virginia       33164            32545\n",
              "3        Ada County           Idaho      392365           456849\n",
              "4      Adair County            Iowa        7682             7054"
            ]
          },
          "execution_count": 253,
          "metadata": {},
          "output_type": "execute_result"
        }
      ],
      "source": [
        "population.head()"
      ]
    },
    {
      "cell_type": "markdown",
      "metadata": {
        "id": "x0vNyKqu2Tek"
      },
      "source": [
        "#### 3. ¿Cuáles son los nombres de las columnas?"
      ]
    },
    {
      "cell_type": "code",
      "execution_count": 254,
      "metadata": {
        "colab": {
          "base_uri": "https://localhost:8080/"
        },
        "collapsed": true,
        "id": "Wuf9aUfB2Tel",
        "jupyter": {
          "outputs_hidden": true
        },
        "outputId": "eb0c6800-3415-400b-bd2e-420afef8d90e"
      },
      "outputs": [
        {
          "data": {
            "text/plain": [
              "Index(['County', 'State', '2010Census', '2017PopEstimate'], dtype='object')"
            ]
          },
          "execution_count": 254,
          "metadata": {},
          "output_type": "execute_result"
        }
      ],
      "source": [
        "population.columns"
      ]
    },
    {
      "cell_type": "markdown",
      "metadata": {
        "id": "PW03cNmq2Tem"
      },
      "source": [
        "<strong>4. ¿Cuántos estados están representados en este dataset?</strong> <em>Nota: los datos incluyen el distrito de Columbia</em>"
      ]
    },
    {
      "cell_type": "code",
      "execution_count": 255,
      "metadata": {
        "colab": {
          "base_uri": "https://localhost:8080/"
        },
        "collapsed": true,
        "id": "Z-Ppz3X02Ten",
        "jupyter": {
          "outputs_hidden": true
        },
        "outputId": "7beebbbd-86f4-4e8a-d09a-f57609590b39"
      },
      "outputs": [
        {
          "data": {
            "text/plain": [
              "50"
            ]
          },
          "execution_count": 255,
          "metadata": {},
          "output_type": "execute_result"
        }
      ],
      "source": [
        "population[\"State\"].nunique()-1"
      ]
    },
    {
      "cell_type": "code",
      "execution_count": 256,
      "metadata": {},
      "outputs": [
        {
          "data": {
            "text/plain": [
              "50"
            ]
          },
          "execution_count": 256,
          "metadata": {},
          "output_type": "execute_result"
        }
      ],
      "source": [
        "len(set(population[\"State\"]))-1\n"
      ]
    },
    {
      "cell_type": "code",
      "execution_count": 257,
      "metadata": {},
      "outputs": [
        {
          "data": {
            "text/plain": [
              "50"
            ]
          },
          "execution_count": 257,
          "metadata": {},
          "output_type": "execute_result"
        }
      ],
      "source": [
        "population[population[\"State\"]!=\"District of Columbia\"][\"State\"].nunique()"
      ]
    },
    {
      "cell_type": "markdown",
      "metadata": {
        "id": "0atRjNjh2Ten"
      },
      "source": [
        "#### 5. Obtén una listo o arreglo de todos los estados en el dataset"
      ]
    },
    {
      "cell_type": "code",
      "execution_count": 258,
      "metadata": {
        "colab": {
          "base_uri": "https://localhost:8080/"
        },
        "collapsed": true,
        "id": "Mb09GA8s2Teo",
        "jupyter": {
          "outputs_hidden": true
        },
        "outputId": "c327ff31-2e47-4def-f127-f604dd79b4ed"
      },
      "outputs": [
        {
          "data": {
            "text/plain": [
              "array(['South Carolina', 'Louisiana', 'Virginia', 'Idaho', 'Iowa',\n",
              "       'Kentucky', 'Missouri', 'Oklahoma', 'Colorado', 'Illinois',\n",
              "       'Indiana', 'Mississippi', 'Nebraska', 'North Dakota', 'Ohio',\n",
              "       'Pennsylvania', 'Washington', 'Wisconsin', 'Vermont', 'Minnesota',\n",
              "       'Florida', 'North Carolina', 'California', 'New York', 'Wyoming',\n",
              "       'Michigan', 'Alaska', 'Maryland', 'Kansas', 'Tennessee', 'Texas',\n",
              "       'Maine', 'Arizona', 'Georgia', 'Arkansas', 'New Jersey',\n",
              "       'South Dakota', 'Alabama', 'Oregon', 'West Virginia',\n",
              "       'Massachusetts', 'Utah', 'Montana', 'New Hampshire', 'New Mexico',\n",
              "       'Rhode Island', 'Nevada', 'Connecticut', 'Hawaii', 'Delaware'],\n",
              "      dtype=object)"
            ]
          },
          "execution_count": 258,
          "metadata": {},
          "output_type": "execute_result"
        }
      ],
      "source": [
        "population[population[\"State\"]!=\"District of Columbia\"][\"State\"].unique()"
      ]
    },
    {
      "cell_type": "markdown",
      "metadata": {
        "id": "XSCxfvWr2Teo"
      },
      "source": [
        "#### 6. ¿Cuáles son los nombres de condados más comunes en los Estados Unidos?"
      ]
    },
    {
      "cell_type": "code",
      "execution_count": 275,
      "metadata": {
        "id": "WjieIX_42Teo",
        "outputId": "e8483768-bd88-431d-bf7e-b82f44083cc7"
      },
      "outputs": [
        {
          "data": {
            "text/plain": [
              "County\n",
              "Washington County    30\n",
              "Jefferson County     25\n",
              "Franklin County      24\n",
              "Jackson County       23\n",
              "Lincoln County       23\n",
              "Madison County       19\n",
              "Clay County          18\n",
              "Montgomery County    18\n",
              "Monroe County        17\n",
              "Marion County        17\n",
              "dtype: int64"
            ]
          },
          "execution_count": 275,
          "metadata": {},
          "output_type": "execute_result"
        }
      ],
      "source": [
        "population.pivot_table(index=\"County\",aggfunc=\"size\").sort_values(ascending=False).head(10)\n"
      ]
    },
    {
      "cell_type": "markdown",
      "metadata": {
        "id": "WriM1TxQ2Tep"
      },
      "source": [
        "#### 7. De acuerdo al censo de 2010, ¿Cuáles son los 5 condados con mayor población?"
      ]
    },
    {
      "cell_type": "code",
      "execution_count": 260,
      "metadata": {
        "colab": {
          "base_uri": "https://localhost:8080/",
          "height": 206
        },
        "collapsed": true,
        "id": "-X0ZdSBD2Tep",
        "jupyter": {
          "outputs_hidden": true
        },
        "outputId": "63785733-c5e0-423b-bb0d-cc7c42be529c",
        "scrolled": true
      },
      "outputs": [
        {
          "data": {
            "text/plain": [
              "1713    Los Angeles County\n",
              "628            Cook County\n",
              "1209         Harris County\n",
              "1784       Maricopa County\n",
              "2501      San Diego County\n",
              "Name: County, dtype: object"
            ]
          },
          "execution_count": 260,
          "metadata": {},
          "output_type": "execute_result"
        }
      ],
      "source": [
        "population.sort_values([\"2010Census\"],ascending=False).head()[\"County\"]"
      ]
    },
    {
      "cell_type": "markdown",
      "metadata": {
        "id": "-vd6E7O72Tep"
      },
      "source": [
        "#### 8. De acuerdo al censo de 2010, ¿Cuaĺes son los 5 estados más poblados?"
      ]
    },
    {
      "cell_type": "code",
      "execution_count": 261,
      "metadata": {
        "colab": {
          "base_uri": "https://localhost:8080/",
          "height": 237
        },
        "id": "nU_LfEz23HIp",
        "outputId": "30cdbb6f-1490-4259-eb48-4092c55ab0c4"
      },
      "outputs": [
        {
          "data": {
            "text/plain": [
              "1713    California\n",
              "628       Illinois\n",
              "1209         Texas\n",
              "1784       Arizona\n",
              "2501    California\n",
              "Name: State, dtype: object"
            ]
          },
          "execution_count": 261,
          "metadata": {},
          "output_type": "execute_result"
        }
      ],
      "source": [
        "population.sort_values([\"2010Census\"],ascending=False).head()[\"State\"]"
      ]
    },
    {
      "cell_type": "markdown",
      "metadata": {
        "id": "udk7XqVK2Teq"
      },
      "source": [
        "#### 9. En 2010, ¿Cuántos condados tenían una población mayor a un millón de habitantes?"
      ]
    },
    {
      "cell_type": "code",
      "execution_count": 262,
      "metadata": {
        "colab": {
          "base_uri": "https://localhost:8080/"
        },
        "collapsed": true,
        "id": "qrB1DaQQ2Teq",
        "jupyter": {
          "outputs_hidden": true
        },
        "outputId": "e2f8796b-a34c-4794-f7e7-4c60bcd7c04b"
      },
      "outputs": [
        {
          "data": {
            "text/plain": [
              "38"
            ]
          },
          "execution_count": 262,
          "metadata": {},
          "output_type": "execute_result"
        }
      ],
      "source": [
        "population[population[\"2010Census\"]>1000000][\"County\"].nunique()"
      ]
    },
    {
      "cell_type": "markdown",
      "metadata": {
        "id": "xE-4-eF72Teq"
      },
      "source": [
        "#### 10. ¿Cuántos condados no tienen la palabra 'County' en su nombre?"
      ]
    },
    {
      "cell_type": "code",
      "execution_count": 276,
      "metadata": {
        "colab": {
          "base_uri": "https://localhost:8080/"
        },
        "id": "PvDfqcdT2Ter",
        "outputId": "d108628b-c27f-4185-bbb4-fcb168bd8b37"
      },
      "outputs": [
        {
          "data": {
            "text/plain": [
              "135"
            ]
          },
          "execution_count": 276,
          "metadata": {},
          "output_type": "execute_result"
        }
      ],
      "source": [
        "population[\"County\"].nunique()-population[population[\"County\"].str.contains(\"County\")][\"County\"].nunique()"
      ]
    },
    {
      "cell_type": "code",
      "execution_count": 277,
      "metadata": {},
      "outputs": [
        {
          "data": {
            "text/plain": [
              "135"
            ]
          },
          "execution_count": 277,
          "metadata": {},
          "output_type": "execute_result"
        }
      ],
      "source": [
        "population[population[\"County\"].str.contains(\"County\")==False][\"County\"].nunique()\n"
      ]
    },
    {
      "cell_type": "markdown",
      "metadata": {
        "id": "HNun_K8i2Ter"
      },
      "source": [
        "#### 11. Agrega una columna que calcule el cambio porcentual entre lo reportado por el censo de 2010 y el estimado de población de 2017."
      ]
    },
    {
      "cell_type": "code",
      "execution_count": 265,
      "metadata": {
        "colab": {
          "base_uri": "https://localhost:8080/",
          "height": 206
        },
        "id": "4dz1oKHR2Ter",
        "outputId": "b4054454-4c96-4e07-979f-57fa4a7589b3"
      },
      "outputs": [
        {
          "data": {
            "text/html": [
              "<div>\n",
              "<style scoped>\n",
              "    .dataframe tbody tr th:only-of-type {\n",
              "        vertical-align: middle;\n",
              "    }\n",
              "\n",
              "    .dataframe tbody tr th {\n",
              "        vertical-align: top;\n",
              "    }\n",
              "\n",
              "    .dataframe thead th {\n",
              "        text-align: right;\n",
              "    }\n",
              "</style>\n",
              "<table border=\"1\" class=\"dataframe\">\n",
              "  <thead>\n",
              "    <tr style=\"text-align: right;\">\n",
              "      <th></th>\n",
              "      <th>County</th>\n",
              "      <th>State</th>\n",
              "      <th>2010Census</th>\n",
              "      <th>2017PopEstimate</th>\n",
              "      <th>Percentage 2010/2017</th>\n",
              "    </tr>\n",
              "  </thead>\n",
              "  <tbody>\n",
              "    <tr>\n",
              "      <th>0</th>\n",
              "      <td>Abbeville County</td>\n",
              "      <td>South Carolina</td>\n",
              "      <td>25417</td>\n",
              "      <td>24722</td>\n",
              "      <td>-2.734390</td>\n",
              "    </tr>\n",
              "    <tr>\n",
              "      <th>1</th>\n",
              "      <td>Acadia Parish</td>\n",
              "      <td>Louisiana</td>\n",
              "      <td>61773</td>\n",
              "      <td>62590</td>\n",
              "      <td>1.322584</td>\n",
              "    </tr>\n",
              "    <tr>\n",
              "      <th>2</th>\n",
              "      <td>Accomack County</td>\n",
              "      <td>Virginia</td>\n",
              "      <td>33164</td>\n",
              "      <td>32545</td>\n",
              "      <td>-1.866482</td>\n",
              "    </tr>\n",
              "    <tr>\n",
              "      <th>3</th>\n",
              "      <td>Ada County</td>\n",
              "      <td>Idaho</td>\n",
              "      <td>392365</td>\n",
              "      <td>456849</td>\n",
              "      <td>16.434697</td>\n",
              "    </tr>\n",
              "    <tr>\n",
              "      <th>4</th>\n",
              "      <td>Adair County</td>\n",
              "      <td>Iowa</td>\n",
              "      <td>7682</td>\n",
              "      <td>7054</td>\n",
              "      <td>-8.174954</td>\n",
              "    </tr>\n",
              "    <tr>\n",
              "      <th>...</th>\n",
              "      <td>...</td>\n",
              "      <td>...</td>\n",
              "      <td>...</td>\n",
              "      <td>...</td>\n",
              "      <td>...</td>\n",
              "    </tr>\n",
              "    <tr>\n",
              "      <th>3137</th>\n",
              "      <td>Yuma County</td>\n",
              "      <td>Arizona</td>\n",
              "      <td>195751</td>\n",
              "      <td>207534</td>\n",
              "      <td>6.019382</td>\n",
              "    </tr>\n",
              "    <tr>\n",
              "      <th>3138</th>\n",
              "      <td>Yuma County</td>\n",
              "      <td>Colorado</td>\n",
              "      <td>10043</td>\n",
              "      <td>10075</td>\n",
              "      <td>0.318630</td>\n",
              "    </tr>\n",
              "    <tr>\n",
              "      <th>3139</th>\n",
              "      <td>Zapata County</td>\n",
              "      <td>Texas</td>\n",
              "      <td>14018</td>\n",
              "      <td>14322</td>\n",
              "      <td>2.168640</td>\n",
              "    </tr>\n",
              "    <tr>\n",
              "      <th>3140</th>\n",
              "      <td>Zavala County</td>\n",
              "      <td>Texas</td>\n",
              "      <td>11677</td>\n",
              "      <td>11948</td>\n",
              "      <td>2.320802</td>\n",
              "    </tr>\n",
              "    <tr>\n",
              "      <th>3141</th>\n",
              "      <td>Ziebach County</td>\n",
              "      <td>South Dakota</td>\n",
              "      <td>2801</td>\n",
              "      <td>2756</td>\n",
              "      <td>-1.606569</td>\n",
              "    </tr>\n",
              "  </tbody>\n",
              "</table>\n",
              "<p>3142 rows × 5 columns</p>\n",
              "</div>"
            ],
            "text/plain": [
              "                County           State  2010Census  2017PopEstimate  \\\n",
              "0     Abbeville County  South Carolina       25417            24722   \n",
              "1        Acadia Parish       Louisiana       61773            62590   \n",
              "2      Accomack County        Virginia       33164            32545   \n",
              "3           Ada County           Idaho      392365           456849   \n",
              "4         Adair County            Iowa        7682             7054   \n",
              "...                ...             ...         ...              ...   \n",
              "3137       Yuma County         Arizona      195751           207534   \n",
              "3138       Yuma County        Colorado       10043            10075   \n",
              "3139     Zapata County           Texas       14018            14322   \n",
              "3140     Zavala County           Texas       11677            11948   \n",
              "3141    Ziebach County    South Dakota        2801             2756   \n",
              "\n",
              "      Percentage 2010/2017  \n",
              "0                -2.734390  \n",
              "1                 1.322584  \n",
              "2                -1.866482  \n",
              "3                16.434697  \n",
              "4                -8.174954  \n",
              "...                    ...  \n",
              "3137              6.019382  \n",
              "3138              0.318630  \n",
              "3139              2.168640  \n",
              "3140              2.320802  \n",
              "3141             -1.606569  \n",
              "\n",
              "[3142 rows x 5 columns]"
            ]
          },
          "execution_count": 265,
          "metadata": {},
          "output_type": "execute_result"
        }
      ],
      "source": [
        "population[\"Percentage 2010/2017\"]=(population[\"2017PopEstimate\"]-population[\"2010Census\"])/(population[\"2010Census\"])*100\n",
        "population"
      ]
    },
    {
      "cell_type": "markdown",
      "metadata": {
        "id": "xho6z7bz2Tes"
      },
      "source": [
        "<strong>Pregunta Extra: ¿Cuaĺes son los estados que tienen el mayor cambio porcentual entre lo reportado por censo de 2010 y el estimado de población de 2017?</strong><br>Este ejercicio requiere de varias lineas de código, ya que require recalcular el cambio porcentual."
      ]
    },
    {
      "cell_type": "code",
      "execution_count": 266,
      "metadata": {},
      "outputs": [],
      "source": [
        "population_State=pd.DataFrame()"
      ]
    },
    {
      "cell_type": "code",
      "execution_count": 267,
      "metadata": {},
      "outputs": [],
      "source": [
        "population_State[\"State\"]=population[\"State\"].sort_values().unique()"
      ]
    },
    {
      "cell_type": "code",
      "execution_count": 268,
      "metadata": {
        "colab": {
          "base_uri": "https://localhost:8080/",
          "height": 237
        },
        "collapsed": true,
        "id": "uFseq-AT2Tes",
        "jupyter": {
          "outputs_hidden": true
        },
        "outputId": "030554d6-b702-431c-a3cf-324c0d00b9c1"
      },
      "outputs": [],
      "source": [
        "filtro_pop_2010=list(population[\"2010Census\"].groupby(population[\"State\"]).sum())"
      ]
    },
    {
      "cell_type": "code",
      "execution_count": 269,
      "metadata": {},
      "outputs": [],
      "source": [
        "population_State[\"2010 Census\"]=filtro_pop_2010"
      ]
    },
    {
      "cell_type": "code",
      "execution_count": 270,
      "metadata": {},
      "outputs": [],
      "source": [
        "filtro_pop_2017=list(population[\"2017PopEstimate\"].groupby(population[\"State\"]).sum())"
      ]
    },
    {
      "cell_type": "code",
      "execution_count": 271,
      "metadata": {},
      "outputs": [],
      "source": [
        "population_State[\"2017 Pop Estimate\"]=filtro_pop_2017"
      ]
    },
    {
      "cell_type": "code",
      "execution_count": 272,
      "metadata": {},
      "outputs": [],
      "source": [
        "population_State=population_State.drop(8) #Eliminar Distrito de Columbia"
      ]
    },
    {
      "cell_type": "code",
      "execution_count": 273,
      "metadata": {},
      "outputs": [
        {
          "data": {
            "text/html": [
              "<div>\n",
              "<style scoped>\n",
              "    .dataframe tbody tr th:only-of-type {\n",
              "        vertical-align: middle;\n",
              "    }\n",
              "\n",
              "    .dataframe tbody tr th {\n",
              "        vertical-align: top;\n",
              "    }\n",
              "\n",
              "    .dataframe thead th {\n",
              "        text-align: right;\n",
              "    }\n",
              "</style>\n",
              "<table border=\"1\" class=\"dataframe\">\n",
              "  <thead>\n",
              "    <tr style=\"text-align: right;\">\n",
              "      <th></th>\n",
              "      <th>State</th>\n",
              "      <th>2010 Census</th>\n",
              "      <th>2017 Pop Estimate</th>\n",
              "      <th>Percentage 2010/2017</th>\n",
              "    </tr>\n",
              "  </thead>\n",
              "  <tbody>\n",
              "    <tr>\n",
              "      <th>0</th>\n",
              "      <td>Alabama</td>\n",
              "      <td>4779736</td>\n",
              "      <td>4874747</td>\n",
              "      <td>1.987788</td>\n",
              "    </tr>\n",
              "    <tr>\n",
              "      <th>1</th>\n",
              "      <td>Alaska</td>\n",
              "      <td>710231</td>\n",
              "      <td>739795</td>\n",
              "      <td>4.162589</td>\n",
              "    </tr>\n",
              "    <tr>\n",
              "      <th>2</th>\n",
              "      <td>Arizona</td>\n",
              "      <td>6392017</td>\n",
              "      <td>7016270</td>\n",
              "      <td>9.766135</td>\n",
              "    </tr>\n",
              "    <tr>\n",
              "      <th>3</th>\n",
              "      <td>Arkansas</td>\n",
              "      <td>2915918</td>\n",
              "      <td>3004279</td>\n",
              "      <td>3.030298</td>\n",
              "    </tr>\n",
              "    <tr>\n",
              "      <th>4</th>\n",
              "      <td>California</td>\n",
              "      <td>37253956</td>\n",
              "      <td>39536653</td>\n",
              "      <td>6.127395</td>\n",
              "    </tr>\n",
              "    <tr>\n",
              "      <th>5</th>\n",
              "      <td>Colorado</td>\n",
              "      <td>5029196</td>\n",
              "      <td>5607154</td>\n",
              "      <td>11.492056</td>\n",
              "    </tr>\n",
              "    <tr>\n",
              "      <th>6</th>\n",
              "      <td>Connecticut</td>\n",
              "      <td>3574097</td>\n",
              "      <td>3588184</td>\n",
              "      <td>0.394142</td>\n",
              "    </tr>\n",
              "    <tr>\n",
              "      <th>7</th>\n",
              "      <td>Delaware</td>\n",
              "      <td>897934</td>\n",
              "      <td>961939</td>\n",
              "      <td>7.128029</td>\n",
              "    </tr>\n",
              "    <tr>\n",
              "      <th>9</th>\n",
              "      <td>Florida</td>\n",
              "      <td>18801310</td>\n",
              "      <td>20984400</td>\n",
              "      <td>11.611372</td>\n",
              "    </tr>\n",
              "    <tr>\n",
              "      <th>10</th>\n",
              "      <td>Georgia</td>\n",
              "      <td>9687653</td>\n",
              "      <td>10429379</td>\n",
              "      <td>7.656406</td>\n",
              "    </tr>\n",
              "    <tr>\n",
              "      <th>11</th>\n",
              "      <td>Hawaii</td>\n",
              "      <td>1360301</td>\n",
              "      <td>1427538</td>\n",
              "      <td>4.942803</td>\n",
              "    </tr>\n",
              "    <tr>\n",
              "      <th>12</th>\n",
              "      <td>Idaho</td>\n",
              "      <td>1567582</td>\n",
              "      <td>1716943</td>\n",
              "      <td>9.528114</td>\n",
              "    </tr>\n",
              "    <tr>\n",
              "      <th>13</th>\n",
              "      <td>Illinois</td>\n",
              "      <td>12830632</td>\n",
              "      <td>12802023</td>\n",
              "      <td>-0.222974</td>\n",
              "    </tr>\n",
              "    <tr>\n",
              "      <th>14</th>\n",
              "      <td>Indiana</td>\n",
              "      <td>6483802</td>\n",
              "      <td>6666818</td>\n",
              "      <td>2.822665</td>\n",
              "    </tr>\n",
              "    <tr>\n",
              "      <th>15</th>\n",
              "      <td>Iowa</td>\n",
              "      <td>3046355</td>\n",
              "      <td>3145711</td>\n",
              "      <td>3.261471</td>\n",
              "    </tr>\n",
              "    <tr>\n",
              "      <th>16</th>\n",
              "      <td>Kansas</td>\n",
              "      <td>2853118</td>\n",
              "      <td>2913123</td>\n",
              "      <td>2.103138</td>\n",
              "    </tr>\n",
              "    <tr>\n",
              "      <th>17</th>\n",
              "      <td>Kentucky</td>\n",
              "      <td>4339367</td>\n",
              "      <td>4454189</td>\n",
              "      <td>2.646054</td>\n",
              "    </tr>\n",
              "    <tr>\n",
              "      <th>18</th>\n",
              "      <td>Louisiana</td>\n",
              "      <td>4533372</td>\n",
              "      <td>4684333</td>\n",
              "      <td>3.329994</td>\n",
              "    </tr>\n",
              "    <tr>\n",
              "      <th>19</th>\n",
              "      <td>Maine</td>\n",
              "      <td>1328361</td>\n",
              "      <td>1335907</td>\n",
              "      <td>0.568068</td>\n",
              "    </tr>\n",
              "    <tr>\n",
              "      <th>20</th>\n",
              "      <td>Maryland</td>\n",
              "      <td>5773552</td>\n",
              "      <td>6052177</td>\n",
              "      <td>4.825885</td>\n",
              "    </tr>\n",
              "    <tr>\n",
              "      <th>21</th>\n",
              "      <td>Massachusetts</td>\n",
              "      <td>6547629</td>\n",
              "      <td>6859819</td>\n",
              "      <td>4.767985</td>\n",
              "    </tr>\n",
              "    <tr>\n",
              "      <th>22</th>\n",
              "      <td>Michigan</td>\n",
              "      <td>9883640</td>\n",
              "      <td>9962311</td>\n",
              "      <td>0.795972</td>\n",
              "    </tr>\n",
              "    <tr>\n",
              "      <th>23</th>\n",
              "      <td>Minnesota</td>\n",
              "      <td>5303925</td>\n",
              "      <td>5576606</td>\n",
              "      <td>5.141117</td>\n",
              "    </tr>\n",
              "    <tr>\n",
              "      <th>24</th>\n",
              "      <td>Mississippi</td>\n",
              "      <td>2967297</td>\n",
              "      <td>2984100</td>\n",
              "      <td>0.566273</td>\n",
              "    </tr>\n",
              "    <tr>\n",
              "      <th>25</th>\n",
              "      <td>Missouri</td>\n",
              "      <td>5988927</td>\n",
              "      <td>6113532</td>\n",
              "      <td>2.080590</td>\n",
              "    </tr>\n",
              "    <tr>\n",
              "      <th>26</th>\n",
              "      <td>Montana</td>\n",
              "      <td>989415</td>\n",
              "      <td>1050493</td>\n",
              "      <td>6.173143</td>\n",
              "    </tr>\n",
              "    <tr>\n",
              "      <th>27</th>\n",
              "      <td>Nebraska</td>\n",
              "      <td>1826341</td>\n",
              "      <td>1920076</td>\n",
              "      <td>5.132393</td>\n",
              "    </tr>\n",
              "    <tr>\n",
              "      <th>28</th>\n",
              "      <td>Nevada</td>\n",
              "      <td>2700551</td>\n",
              "      <td>2998039</td>\n",
              "      <td>11.015826</td>\n",
              "    </tr>\n",
              "    <tr>\n",
              "      <th>29</th>\n",
              "      <td>New Hampshire</td>\n",
              "      <td>1316470</td>\n",
              "      <td>1342795</td>\n",
              "      <td>1.999666</td>\n",
              "    </tr>\n",
              "    <tr>\n",
              "      <th>30</th>\n",
              "      <td>New Jersey</td>\n",
              "      <td>8791894</td>\n",
              "      <td>9005644</td>\n",
              "      <td>2.431217</td>\n",
              "    </tr>\n",
              "    <tr>\n",
              "      <th>31</th>\n",
              "      <td>New Mexico</td>\n",
              "      <td>2059179</td>\n",
              "      <td>2088070</td>\n",
              "      <td>1.403035</td>\n",
              "    </tr>\n",
              "    <tr>\n",
              "      <th>32</th>\n",
              "      <td>New York</td>\n",
              "      <td>19378102</td>\n",
              "      <td>19849399</td>\n",
              "      <td>2.432111</td>\n",
              "    </tr>\n",
              "    <tr>\n",
              "      <th>33</th>\n",
              "      <td>North Carolina</td>\n",
              "      <td>9535483</td>\n",
              "      <td>10273419</td>\n",
              "      <td>7.738842</td>\n",
              "    </tr>\n",
              "    <tr>\n",
              "      <th>34</th>\n",
              "      <td>North Dakota</td>\n",
              "      <td>672591</td>\n",
              "      <td>755393</td>\n",
              "      <td>12.310899</td>\n",
              "    </tr>\n",
              "    <tr>\n",
              "      <th>35</th>\n",
              "      <td>Ohio</td>\n",
              "      <td>11536504</td>\n",
              "      <td>11658609</td>\n",
              "      <td>1.058423</td>\n",
              "    </tr>\n",
              "    <tr>\n",
              "      <th>36</th>\n",
              "      <td>Oklahoma</td>\n",
              "      <td>3751351</td>\n",
              "      <td>3930864</td>\n",
              "      <td>4.785289</td>\n",
              "    </tr>\n",
              "    <tr>\n",
              "      <th>37</th>\n",
              "      <td>Oregon</td>\n",
              "      <td>3831074</td>\n",
              "      <td>4142776</td>\n",
              "      <td>8.136152</td>\n",
              "    </tr>\n",
              "    <tr>\n",
              "      <th>38</th>\n",
              "      <td>Pennsylvania</td>\n",
              "      <td>12702379</td>\n",
              "      <td>12805537</td>\n",
              "      <td>0.812116</td>\n",
              "    </tr>\n",
              "    <tr>\n",
              "      <th>39</th>\n",
              "      <td>Rhode Island</td>\n",
              "      <td>1052567</td>\n",
              "      <td>1059639</td>\n",
              "      <td>0.671881</td>\n",
              "    </tr>\n",
              "    <tr>\n",
              "      <th>40</th>\n",
              "      <td>South Carolina</td>\n",
              "      <td>4625364</td>\n",
              "      <td>5024369</td>\n",
              "      <td>8.626456</td>\n",
              "    </tr>\n",
              "    <tr>\n",
              "      <th>41</th>\n",
              "      <td>South Dakota</td>\n",
              "      <td>814180</td>\n",
              "      <td>869666</td>\n",
              "      <td>6.814955</td>\n",
              "    </tr>\n",
              "    <tr>\n",
              "      <th>42</th>\n",
              "      <td>Tennessee</td>\n",
              "      <td>6346105</td>\n",
              "      <td>6715984</td>\n",
              "      <td>5.828441</td>\n",
              "    </tr>\n",
              "    <tr>\n",
              "      <th>43</th>\n",
              "      <td>Texas</td>\n",
              "      <td>25145561</td>\n",
              "      <td>28304596</td>\n",
              "      <td>12.562993</td>\n",
              "    </tr>\n",
              "    <tr>\n",
              "      <th>44</th>\n",
              "      <td>Utah</td>\n",
              "      <td>2763885</td>\n",
              "      <td>3101833</td>\n",
              "      <td>12.227282</td>\n",
              "    </tr>\n",
              "    <tr>\n",
              "      <th>45</th>\n",
              "      <td>Vermont</td>\n",
              "      <td>625741</td>\n",
              "      <td>623657</td>\n",
              "      <td>-0.333045</td>\n",
              "    </tr>\n",
              "    <tr>\n",
              "      <th>46</th>\n",
              "      <td>Virginia</td>\n",
              "      <td>8001024</td>\n",
              "      <td>8470020</td>\n",
              "      <td>5.861700</td>\n",
              "    </tr>\n",
              "    <tr>\n",
              "      <th>47</th>\n",
              "      <td>Washington</td>\n",
              "      <td>6724540</td>\n",
              "      <td>7405743</td>\n",
              "      <td>10.130106</td>\n",
              "    </tr>\n",
              "    <tr>\n",
              "      <th>48</th>\n",
              "      <td>West Virginia</td>\n",
              "      <td>1852994</td>\n",
              "      <td>1815857</td>\n",
              "      <td>-2.004162</td>\n",
              "    </tr>\n",
              "    <tr>\n",
              "      <th>49</th>\n",
              "      <td>Wisconsin</td>\n",
              "      <td>5686986</td>\n",
              "      <td>5795483</td>\n",
              "      <td>1.907812</td>\n",
              "    </tr>\n",
              "    <tr>\n",
              "      <th>50</th>\n",
              "      <td>Wyoming</td>\n",
              "      <td>563626</td>\n",
              "      <td>579315</td>\n",
              "      <td>2.783583</td>\n",
              "    </tr>\n",
              "  </tbody>\n",
              "</table>\n",
              "</div>"
            ],
            "text/plain": [
              "             State  2010 Census  2017 Pop Estimate  Percentage 2010/2017\n",
              "0          Alabama      4779736            4874747              1.987788\n",
              "1           Alaska       710231             739795              4.162589\n",
              "2          Arizona      6392017            7016270              9.766135\n",
              "3         Arkansas      2915918            3004279              3.030298\n",
              "4       California     37253956           39536653              6.127395\n",
              "5         Colorado      5029196            5607154             11.492056\n",
              "6      Connecticut      3574097            3588184              0.394142\n",
              "7         Delaware       897934             961939              7.128029\n",
              "9          Florida     18801310           20984400             11.611372\n",
              "10         Georgia      9687653           10429379              7.656406\n",
              "11          Hawaii      1360301            1427538              4.942803\n",
              "12           Idaho      1567582            1716943              9.528114\n",
              "13        Illinois     12830632           12802023             -0.222974\n",
              "14         Indiana      6483802            6666818              2.822665\n",
              "15            Iowa      3046355            3145711              3.261471\n",
              "16          Kansas      2853118            2913123              2.103138\n",
              "17        Kentucky      4339367            4454189              2.646054\n",
              "18       Louisiana      4533372            4684333              3.329994\n",
              "19           Maine      1328361            1335907              0.568068\n",
              "20        Maryland      5773552            6052177              4.825885\n",
              "21   Massachusetts      6547629            6859819              4.767985\n",
              "22        Michigan      9883640            9962311              0.795972\n",
              "23       Minnesota      5303925            5576606              5.141117\n",
              "24     Mississippi      2967297            2984100              0.566273\n",
              "25        Missouri      5988927            6113532              2.080590\n",
              "26         Montana       989415            1050493              6.173143\n",
              "27        Nebraska      1826341            1920076              5.132393\n",
              "28          Nevada      2700551            2998039             11.015826\n",
              "29   New Hampshire      1316470            1342795              1.999666\n",
              "30      New Jersey      8791894            9005644              2.431217\n",
              "31      New Mexico      2059179            2088070              1.403035\n",
              "32        New York     19378102           19849399              2.432111\n",
              "33  North Carolina      9535483           10273419              7.738842\n",
              "34    North Dakota       672591             755393             12.310899\n",
              "35            Ohio     11536504           11658609              1.058423\n",
              "36        Oklahoma      3751351            3930864              4.785289\n",
              "37          Oregon      3831074            4142776              8.136152\n",
              "38    Pennsylvania     12702379           12805537              0.812116\n",
              "39    Rhode Island      1052567            1059639              0.671881\n",
              "40  South Carolina      4625364            5024369              8.626456\n",
              "41    South Dakota       814180             869666              6.814955\n",
              "42       Tennessee      6346105            6715984              5.828441\n",
              "43           Texas     25145561           28304596             12.562993\n",
              "44            Utah      2763885            3101833             12.227282\n",
              "45         Vermont       625741             623657             -0.333045\n",
              "46        Virginia      8001024            8470020              5.861700\n",
              "47      Washington      6724540            7405743             10.130106\n",
              "48   West Virginia      1852994            1815857             -2.004162\n",
              "49       Wisconsin      5686986            5795483              1.907812\n",
              "50         Wyoming       563626             579315              2.783583"
            ]
          },
          "execution_count": 273,
          "metadata": {},
          "output_type": "execute_result"
        }
      ],
      "source": [
        "population_State[\"Percentage 2010/2017\"]=(population_State[\"2017 Pop Estimate\"]-population_State[\"2010 Census\"])/(population_State[\"2010 Census\"])*100\n",
        "population_State"
      ]
    },
    {
      "cell_type": "code",
      "execution_count": 274,
      "metadata": {},
      "outputs": [
        {
          "data": {
            "text/html": [
              "<div>\n",
              "<style scoped>\n",
              "    .dataframe tbody tr th:only-of-type {\n",
              "        vertical-align: middle;\n",
              "    }\n",
              "\n",
              "    .dataframe tbody tr th {\n",
              "        vertical-align: top;\n",
              "    }\n",
              "\n",
              "    .dataframe thead th {\n",
              "        text-align: right;\n",
              "    }\n",
              "</style>\n",
              "<table border=\"1\" class=\"dataframe\">\n",
              "  <thead>\n",
              "    <tr style=\"text-align: right;\">\n",
              "      <th></th>\n",
              "      <th>State</th>\n",
              "      <th>2010 Census</th>\n",
              "      <th>2017 Pop Estimate</th>\n",
              "      <th>Percentage 2010/2017</th>\n",
              "    </tr>\n",
              "  </thead>\n",
              "  <tbody>\n",
              "    <tr>\n",
              "      <th>43</th>\n",
              "      <td>Texas</td>\n",
              "      <td>25145561</td>\n",
              "      <td>28304596</td>\n",
              "      <td>12.562993</td>\n",
              "    </tr>\n",
              "    <tr>\n",
              "      <th>34</th>\n",
              "      <td>North Dakota</td>\n",
              "      <td>672591</td>\n",
              "      <td>755393</td>\n",
              "      <td>12.310899</td>\n",
              "    </tr>\n",
              "    <tr>\n",
              "      <th>44</th>\n",
              "      <td>Utah</td>\n",
              "      <td>2763885</td>\n",
              "      <td>3101833</td>\n",
              "      <td>12.227282</td>\n",
              "    </tr>\n",
              "    <tr>\n",
              "      <th>9</th>\n",
              "      <td>Florida</td>\n",
              "      <td>18801310</td>\n",
              "      <td>20984400</td>\n",
              "      <td>11.611372</td>\n",
              "    </tr>\n",
              "    <tr>\n",
              "      <th>5</th>\n",
              "      <td>Colorado</td>\n",
              "      <td>5029196</td>\n",
              "      <td>5607154</td>\n",
              "      <td>11.492056</td>\n",
              "    </tr>\n",
              "  </tbody>\n",
              "</table>\n",
              "</div>"
            ],
            "text/plain": [
              "           State  2010 Census  2017 Pop Estimate  Percentage 2010/2017\n",
              "43         Texas     25145561           28304596             12.562993\n",
              "34  North Dakota       672591             755393             12.310899\n",
              "44          Utah      2763885            3101833             12.227282\n",
              "9        Florida     18801310           20984400             11.611372\n",
              "5       Colorado      5029196            5607154             11.492056"
            ]
          },
          "execution_count": 274,
          "metadata": {},
          "output_type": "execute_result"
        }
      ],
      "source": [
        "population_State.sort_values(\"Percentage 2010/2017\",ascending=False).head()"
      ]
    },
    {
      "cell_type": "markdown",
      "metadata": {
        "id": "47b3Ha7s2Tes"
      },
      "source": [
        "# ¡Buen trabajo!"
      ]
    }
  ],
  "metadata": {
    "colab": {
      "collapsed_sections": [],
      "name": "Ejercicios_Pandas.ipynb",
      "provenance": []
    },
    "kernelspec": {
      "display_name": "Python 3.10.4 64-bit",
      "language": "python",
      "name": "python3"
    },
    "language_info": {
      "codemirror_mode": {
        "name": "ipython",
        "version": 3
      },
      "file_extension": ".py",
      "mimetype": "text/x-python",
      "name": "python",
      "nbconvert_exporter": "python",
      "pygments_lexer": "ipython3",
      "version": "3.10.4"
    },
    "vscode": {
      "interpreter": {
        "hash": "6483d42e64b705807ee7ab627fc5c3df04fe935c6b01693ce46ae2d688d3de35"
      }
    }
  },
  "nbformat": 4,
  "nbformat_minor": 0
}
